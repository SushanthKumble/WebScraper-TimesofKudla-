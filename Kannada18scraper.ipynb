{
  "nbformat": 4,
  "nbformat_minor": 0,
  "metadata": {
    "colab": {
      "provenance": [],
      "authorship_tag": "ABX9TyOTdrpp4EADw3iD0EaNwGd3",
      "include_colab_link": true
    },
    "kernelspec": {
      "name": "python3",
      "display_name": "Python 3"
    },
    "language_info": {
      "name": "python"
    }
  },
  "cells": [
    {
      "cell_type": "markdown",
      "metadata": {
        "id": "view-in-github",
        "colab_type": "text"
      },
      "source": [
        "<a href=\"https://colab.research.google.com/github/SushanthKumble/WebScraper-TimesofKudla-/blob/main/Kannada18scraper.ipynb\" target=\"_parent\"><img src=\"https://colab.research.google.com/assets/colab-badge.svg\" alt=\"Open In Colab\"/></a>"
      ]
    },
    {
      "cell_type": "code",
      "source": [
        "!pip install fake_useragent"
      ],
      "metadata": {
        "colab": {
          "base_uri": "https://localhost:8080/"
        },
        "id": "vdaqILuADEg_",
        "outputId": "6e94c6cc-418c-4564-c794-e069a56d5bd9"
      },
      "execution_count": 3,
      "outputs": [
        {
          "output_type": "stream",
          "name": "stdout",
          "text": [
            "Collecting fake_useragent\n",
            "  Downloading fake_useragent-1.5.1-py3-none-any.whl (17 kB)\n",
            "Installing collected packages: fake_useragent\n",
            "Successfully installed fake_useragent-1.5.1\n"
          ]
        }
      ]
    },
    {
      "cell_type": "code",
      "execution_count": 4,
      "metadata": {
        "id": "b5YGqXNQC8hE"
      },
      "outputs": [],
      "source": [
        "import requests\n",
        "from urllib.parse import unquote\n",
        "from bs4 import BeautifulSoup\n",
        "from fake_useragent import UserAgent"
      ]
    },
    {
      "cell_type": "code",
      "source": [
        "from urllib.parse import unquote\n",
        "\n",
        "url = \"https://kannada.news18.com/state/\"\n",
        "\n",
        "decoded_url = unquote(url)\n",
        "print(decoded_url)\n"
      ],
      "metadata": {
        "colab": {
          "base_uri": "https://localhost:8080/"
        },
        "id": "OzA1OTY-DMbD",
        "outputId": "ad4a3918-5832-4733-ac37-d080b8d28c7b"
      },
      "execution_count": 5,
      "outputs": [
        {
          "output_type": "stream",
          "name": "stdout",
          "text": [
            "https://kannada.news18.com/state/\n"
          ]
        }
      ]
    },
    {
      "cell_type": "code",
      "source": [
        "url = \"https://kannada.news18.com/state/\"\n",
        "user_agent = UserAgent()\n",
        "headers = {'User-Agent': user_agent.random}\n",
        "response = requests.get(url, headers=headers)\n",
        "response_content = response.content\n",
        "soup = BeautifulSoup(response_content, 'html.parser')\n",
        "li_elements=soup.find_all('li', class_='jsx-bcef60bca6506e85')"
      ],
      "metadata": {
        "id": "9c7EfBy-DZx3"
      },
      "execution_count": 6,
      "outputs": []
    },
    {
      "cell_type": "markdown",
      "source": [
        "Extracting Links from the li Tags---->Change the iteration size of the loop to fetch more links from the website"
      ],
      "metadata": {
        "id": "mWhU1wxZF6lL"
      }
    },
    {
      "cell_type": "code",
      "source": [
        "import requests\n",
        "from bs4 import BeautifulSoup\n",
        "from fake_useragent import UserAgent\n",
        "\n",
        "linklist = []\n",
        "\n",
        "for page_number in range(1, 40):\n",
        "    url = f\"https://kannada.news18.com/state/page-{page_number}/\"\n",
        "    user_agent = UserAgent()\n",
        "    headers = {'User-Agent': user_agent.random}\n",
        "    response = requests.get(url, headers=headers)\n",
        "    response_content = response.content\n",
        "    soup = BeautifulSoup(response_content, 'html.parser')\n",
        "    li_elements = soup.find_all('li', class_='jsx-bcef60bca6506e85')\n",
        "    # Extract the links from <a> tags within <h2> elements\n",
        "    links = [li.find('a')['href'] for li in li_elements if li.find('a')]\n",
        "    # Print the extracted links\n",
        "    for link in links:\n",
        "        if \"/news/\" in link:\n",
        "            linklist.append(\"https://kannada.news18.com\" + link)\n",
        "\n",
        "# Print the list of links\n",
        "print(linklist)\n"
      ],
      "metadata": {
        "colab": {
          "base_uri": "https://localhost:8080/"
        },
        "id": "zIkuYz5l8pEI",
        "outputId": "89e72296-bcb3-4219-bdbc-a237688b0a93"
      },
      "execution_count": 18,
      "outputs": [
        {
          "output_type": "stream",
          "name": "stdout",
          "text": [
            "['https://kannada.news18.com/news/bengaluru-urban/bengaluru-monsoon-alert-these-198-areas-may-hit-the-flood-ggb-1701277.html', 'https://kannada.news18.com/news/state/gym-trainer-died-after-trying-to-scare-his-wife-in-bengaluru-sns-1701002.html', 'https://kannada.news18.com/news/state/telangana-to-seek-drinking-water-1-26-tmc-water-released-to-krishna-river-from-narayanpur-dam-sns-1700838.html', 'https://kannada.news18.com/news/state/hubballi-anjali-case-neha-hiremath-s-father-niranjan-gave-1-lakh-to-anjali-s-family-sns-1700184.html', 'https://kannada.news18.com/news/state/young-lady-kills-house-owner-for-gold-chain-in-bengaluru-mbr-1700778.html', 'https://kannada.news18.com/news/state/two-police-officers-suspended-for-dereliction-in-hubballi-anjali-case-mbr-1700743.html', 'https://kannada.news18.com/news/hubballi-dharwad/indian-railways-partially-cancelled-bengaluru-hubballi-and-hospet-hubballi-trains-ggb-1700552.html', 'https://kannada.news18.com/news/state/hubballi-murder-case-will-accused-gireesh-inspired-by-his-friend-for-killed-anjali-mbr-1700448.html', 'https://kannada.news18.com/news/state/mp-prajwal-revanna-not-boarding-flight-which-is-leave-from-germany-mbr-1700388.html', 'https://kannada.news18.com/news/state/hubballi-mla-outrage-against-government-and-police-for-not-take-action-before-accused-murder-anjali-mbr-1700264.html', 'https://kannada.news18.com/news/state/newly-married-couple-found-dead-in-vijayapura-sns-1700104.html', 'https://kannada.news18.com/news/state/this-is-the-main-reason-for-traffic-jam-in-bangalore-traffic-police-data-revealed-stg-pjl-1699562.html', 'https://kannada.news18.com/news/state/after-neha-hiremath-young-woman-killed-for-rejecting-love-proposal-in-hubballi-sns-1699745.html', 'https://kannada.news18.com/news/state/this-is-the-main-reason-for-traffic-jam-in-bangalore-traffic-police-data-revealed-stg-pjl-1699562.html', 'https://kannada.news18.com/news/state/after-neha-hiremath-young-woman-killed-for-rejecting-love-proposal-in-hubballi-sns-1699745.html', 'https://kannada.news18.com/news/hubballi-dharwad/south-western-railway-continuous-hubballi-special-trains-ggb-1699699.html', 'https://kannada.news18.com/news/state/home-alone-woman-murdered-for-gold-chain-tenant-arrested-by-kengeri-police-bengaluru-sns-1699575.html', 'https://kannada.news18.com/news/state/nanjangud-nanjundeshwara-temple-hundi-counting-rs-1-72-cr-collected-sns-1699460.html', 'https://kannada.news18.com/news/state/after-coming-out-of-parappana-agrahara-prison-hd-revanna-temple-run-to-get-rid-of-the-trouble-sns-1699419.html', 'https://kannada.news18.com/news/state/prajwal-revanna-is-likely-to-come-to-bengaluru-tomorrow-ach-1699398.html', 'https://kannada.news18.com/news/state/petition-to-the-high-court-to-file-a-complaint-against-those-who-made-prajwal-revanna-s-pen-drive-viral-ach-1699377.html', 'https://kannada.news18.com/news/state/hd-revanna-visits-chamundeshwari-temple-in-mysore-ach-1699344.html', 'https://kannada.news18.com/news/state/hd-revanna-s-reaction-to-the-kidnapping-allegations-against-him-ach-1699270.html', 'https://kannada.news18.com/news/state/sit-raids-pritam-gowda-s-close-friends-bar-and-hotels-in-hassan-ach-1699170.html', 'https://kannada.news18.com/news/state/hd-revanna-visited-temple-after-being-released-from-jail-ach-1699003.html', 'https://kannada.news18.com/news/bengaluru-urban/bengaluru-traffic-advisory-hebbal-flyover-closed-from-today-for-all-types-of-vehicles-ggb-1698751.html', 'https://kannada.news18.com/news/state/kidnap-case-after-10-days-of-exile-hd-revanna-finally-came-out-of-parappana-agrahara-jail-akd-1698663.html', 'https://kannada.news18.com/news/state/congress-high-command-send-message-to-after-eknath-shinde-statement-sns-1698417.html', 'https://kannada.news18.com/news/state/siddaramaiah-and-dk-shivakumar-plan-operation-congress-after-election-results-sns-1698167.html', 'https://kannada.news18.com/news/state/hd-revanna-release-today-afternoon-mrq-1698151.html', 'https://kannada.news18.com/news/state/heavy-rain-in-bengaluru-ach-1698111.html', 'https://kannada.news18.com/news/state/fact-check-is-it-true-that-the-pakistan-flag-was-waved-in-the-congress-meeting-held-near-gubbi-gate-in-tumkuru-sns-1698049.html', 'https://kannada.news18.com/news/state/revanna-likely-to-be-release-for-jail-on-tuesday-high-security-deployed-near-parappana-agrahara-mbr-1698077.html', 'https://kannada.news18.com/news/state/hd-revanna-will-not-be-released-from-jail-today-ach-1697901.html', 'https://kannada.news18.com/news/state/former-minister-revanna-get-bail-from-woman-kidnap-case-mbr-1697765.html', 'https://kannada.news18.com/news/state/hasan-former-mla-preetham-gowda-first-reaction-on-prajwal-revanna-pendrive-case-mbr-1697720.html', 'https://kannada.news18.com/news/state/hd-revanna-bail-application-hearing-in-court-ach-1697645.html', 'https://kannada.news18.com/news/state/bjp-raghupathi-bhatt-is-upset-after-bjp-ticket-miss-for-karnataka-mlc-election-2024-sns-1695808.html', 'https://kannada.news18.com/news/state/cet-registration-for-neet-candidates-kea-clarifies-rumors-sns-1695791.html', 'https://kannada.news18.com/news/state/pendrive-case-mp-prajwal-revanna-not-found-after-16-days-sit-team-searching-in-europe-sns-1695784.html', 'https://kannada.news18.com/news/state/education-minister-madhu-bangarappa-says-i-find-it-a-little-difficult-to-read-kannada-but-it-s-good-to-talk-sns-1695771.html', 'https://kannada.news18.com/news/state/devaraje-gowda-has-been-remanded-in-judicial-custody-for-14-days-ach-1695660.html', 'https://kannada.news18.com/news/state/heavy-rains-in-many-parts-of-the-state-ach-1695585.html', 'https://kannada.news18.com/news/state/bjp-leader-advocate-devarajegowda-arrest-in-harass-mbr-1695396.html', 'https://kannada.news18.com/news/state/kas-official-wife-high-court-advocate-committed-suicide-in-bengaluru-mbr-1695293.html', 'https://kannada.news18.com/news/state/harassment-by-giving-electric-shock-to-merchant-private-part-in-kalaburgi-sns-1695116.html', 'https://kannada.news18.com/news/state/kodagu-sslc-student-murder-case-big-twist-minor-girl-head-found-on-the-tree-sns-1695050.html', 'https://kannada.news18.com/news/state/pralhad-joshi-says-devarajegowda-s-arrest-is-a-political-conspiracy-sns-1695071.html', 'https://kannada.news18.com/news/bengaluru-urban/tree-census-again-in-bengaluru-why-and-what-is-the-significance-ggb-1695015.html', 'https://kannada.news18.com/news/state/kolar-pregnant-who-took-the-pill-thinking-baby-girl-baby-boy-discovered-after-abortion-sns-1694996.html', 'https://kannada.news18.com/news/education-3/chikkamagaluru-muslim-girl-bagged-cent-percent-in-sanskrit-irk-1694732.html', 'https://kannada.news18.com/news/state/kodagu-sslc-student-murder-case-accused-arrested-search-by-police-dogs-for-girl-head-sns-1694537.html', 'https://kannada.news18.com/news/state/karnataka-sslc-district-wise-results-2024-here-is-complete-list-ggb-1691960.html', 'https://kannada.news18.com/news/jobs/education-kseab-karnataka-sslc-10th-results-updates-10th-board-results-announced-how-to-check-scores-online-and-more-akd-1691986.html', 'https://kannada.news18.com/news/state/sit-issue-second-notice-to-bhavani-revanna-mrq-1691956.html', 'https://kannada.news18.com/news/jobs/education-karnataka-sslc-10th-result-2024-updates-how-to-check-sslc-results-akd-1691766.html', 'https://kannada.news18.com/news/state/after-election-mla-prabhu-chavan-returned-his-constituency-mrq-1691708.html', 'https://kannada.news18.com/news/state/hindu-youth-married-muslim-girl-in-bagalkote-mrq-1691678.html', 'https://kannada.news18.com/news/state/former-minister-hd-revanna-shift-central-jail-utt-number-release-mbr-1691584.html', 'https://kannada.news18.com/news/state/man-kills-two-brothers-over-love-case-in-belagavi-mbr-1691488.html', 'https://kannada.news18.com/news/state/belthangadi-former-mla-vasanth-bangera-passed-away-pjl-1691465.html', 'https://kannada.news18.com/news/state/minister-cheluvaswamy-warning-to-hd-kumaraswamy-for-using-singular-word-over-prajwal-case-mbr-1691439.html', 'https://kannada.news18.com/news/state/congress-reaction-on-appoints-non-hindu-to-avimukteshwara-swamy-temple-committee-in-hoskote-mbr-1691381.html', 'https://kannada.news18.com/news/state/court-adjourned-the-hearing-of-the-bail-application-of-hd-revanna-in-kidnap-case-mbr-1691254.html', 'https://kannada.news18.com/news/state/dcm-dk-shivakumar-says-hd-kumaraswamy-king-of-blackmail-sns-1690984.html', 'https://kannada.news18.com/news/state/mp-prajwal-revanna-pendrive-case-hassan-congress-candidate-shreyas-patel-with-karthik-puttaraju-goes-photos-viral-sns-1690855.html', 'https://kannada.news18.com/news/national-international/bengaluru-mumbai-6-lane-highway-between-davangere-to-chitradurga-makes-your-travel-easy-central-minister-nitin-gadkari-shares-photos-ggb-1690853.html', 'https://kannada.news18.com/news/bengaluru-urban/bescom-release-district-wise-whatsapp-number-for-complaints-ggb-1690771.html', 'https://kannada.news18.com/news/state/hd-revanna-bail-application-hearing-today-in-bengaluru-sns-1690700.html', 'https://kannada.news18.com/news/state/fact-check-no-bomb-explosive-in-bellary-jewellery-shop-ggb-1689321.html', 'https://kannada.news18.com/news/state/cm-siddaramaiah-left-for-ooty-dcm-dk-shivakumar-for-chikkamagaluru-with-family-sns-1689213.html', 'https://kannada.news18.com/news/state/sa-ra-mahesh-says-kidnap-case-victim-was-not-found-in-the-farm-house-mrq-1689335.html', 'https://kannada.news18.com/news/state/shreyas-patel-reacts-on-bjp-leader-devaraje-gowda-allegation-mrq-1689164.html', 'https://kannada.news18.com/news/state/pm-modi-has-not-referred-to-the-people-of-karnataka-as-sinners-sns-1689063.html', 'https://kannada.news18.com/news/state/poster-war-against-dcm-dk-shivakumar-mrq-1689080.html', 'https://kannada.news18.com/news/state/man-died-on-the-way-to-celebrate-birthday-after-tree-falls-on-car-in-mandya-sns-1688727.html', 'https://kannada.news18.com/news/state/dharwad-lok-sabha-election-2024-vote-and-eat-idli-vada-at-discounted-prices-by-showing-finger-ink-in-hubballi-sns-1688650.html', 'https://kannada.news18.com/news/national-international/karnataka-lok-sabha-elections-2024-voting-phase-3-live-updates-1688635.html', 'https://kannada.news18.com/news/state/karnataka-loksabha-elections-2024-polling-today-in-14-constituencies-of-karnataka-sns-1688528.html', 'https://kannada.news18.com/news/state/geetha-shivarajkumar-s-speeches-are-being-trolled-ach-1688562.html', 'https://kannada.news18.com/news/state/prajwal-revanna-pen-drive-case-dk-shivakumar-s-reaction-to-devarajegowda-s-allegation-ach-1688509.html', 'https://kannada.news18.com/news/state/prajwal-revanna-pen-drive-case-shivaramegowda-s-reaction-to-devarajegowda-s-allegation-ach-1688424.html', 'https://kannada.news18.com/news/state/prajwal-revanna-pen-drive-case-lawyers-devarajegowda-accused-congress-for-viral-video-ggb-1688241.html', 'https://kannada.news18.com/news/state/devaraje-gowda-said-dk-shivakumar-was-behind-the-prajwal-revanna-pen-drive-case-ach-1688229.html', 'https://kannada.news18.com/news/state/marriage-broke-up-because-no-dessert-was-served-groom-took-off-his-ring-overnight-in-kodagu-ggb-1687984.html', 'https://kannada.news18.com/news/state/liquor-sale-ban-for-3-days-from-today-in-14-districts-of-the-state-svl-1685361.html', 'https://kannada.news18.com/news/state/big-shock-for-hd-revanna-after-the-arrest-discussion-to-suspend-from-jds-party-sns-1685302.html', 'https://kannada.news18.com/news/state/hd-revanna-is-interrogated-by-the-sit-team-at-the-cid-office-mrq-1685159.html', 'https://kannada.news18.com/news/state/raichur-anti-jai-shri-ram-slogan-viral-video-case-congress-bjp-protest-ach-1684936.html', 'https://kannada.news18.com/news/state/did-hd-revanna-see-astrology-even-when-he-was-arrested-ach-1685047.html', 'https://kannada.news18.com/news/state/manipal-hospital-has-allowed-transplant-survivors-to-watch-the-rcb-match-pjl-1685103.html', 'https://kannada.news18.com/news/state/congress-reacts-on-hd-revanna-arrest-mrq-1685109.html', 'https://kannada.news18.com/news/explained/what-is-the-woman-s-kidnapping-case-that-led-to-hd-revanna-s-arrest-ach-1685077.html', 'https://kannada.news18.com/news/state/is-former-pm-hd-devegowda-send-message-to-prajwal-revanna-mrq-1685088.html', 'https://kannada.news18.com/news/state/former-minister-hd-revanna-detained-in-kidnap-case-mrq-1685035.html', 'https://kannada.news18.com/news/state/hd-revanna-anticipatory-bail-application-hearing-in-court-ach-1684790.html', 'https://kannada.news18.com/news/state/conversation-between-auto-driver-and-passenger-in-bangalore-sng-1684966.html', 'https://kannada.news18.com/news/state/kidnap-case-victim-rescue-by-sit-team-mrq-1684958.html', 'https://kannada.news18.com/news/state/indiganat-villagers-left-the-village-fearing-arrest-mrq-1684916.html', 'https://kannada.news18.com/news/state/minister-krishna-byre-gowda-says-bjp-released-the-video-for-three-reasons-mrq-1684771.html', 'https://kannada.news18.com/news/state/shimoga-strange-incident-in-the-bhadra-backwaters-mother-elephant-stand-with-baby-from-last-10-days-ggb-1684603.html', 'https://kannada.news18.com/news/state/nikhil-kumaraswamy-first-reaction-to-prajwal-revanna-video-case-says-hassan-mp-has-nothing-to-do-with-me-sns-1684616.html', 'https://kannada.news18.com/news/state/prajwal-revanna-scandal-rahul-gandhi-writes-letter-to-cm-siddaramaiah-sns-1684444.html', 'https://kannada.news18.com/news/state/prajwal-revanna-scandal-hard-shock-for-young-hd-deve-gowda-family-is-concerned-about-health-of-former-prime-ministers-sns-1684264.html', 'https://kannada.news18.com/news/bengaluru-urban/kaveri-water-supply-disruption-in-bengaluru-on-may-8th-ggb-1684157.html', 'https://kannada.news18.com/news/state/letter-from-700-women-to-commission-to-disqualify-hd-revanna-from-mla-post-sns-1684238.html', 'https://kannada.news18.com/news/state/sit-plans-issue-red-corner-notice-to-hassan-mp-prajwal-revanna-mrq-1683593.html', 'https://kannada.news18.com/news/state/mandya-former-mp-lr-shivarame-gowda-sensational-comments-about-hd-revanna-case-sns-1683829.html', 'https://kannada.news18.com/news/state/opposition-deputy-leader-arvind-bellad-says-cm-siddaramaiah-is-giving-love-jihad-bhagya-sns-1683739.html', 'https://kannada.news18.com/news/state/newly-married-groom-and-a-cowherd-woman-were-killed-by-lightning-in-karnataka-sns-1683663.html', 'https://kannada.news18.com/news/state/another-case-of-love-jihad-minor-girl-got-pregnant-police-open-fire-on-rape-case-accused-in-hubballi-sns-1683647.html', 'https://kannada.news18.com/news/state/zameer-ahmed-khan-said-that-those-who-raise-pro-pakistan-slogans-should-be-shot-dead-ach-1683451.html', 'https://kannada.news18.com/news/state/look-out-notice-to-former-minister-hd-revanna-mrq-1683351.html', 'https://kannada.news18.com/news/state/india-s-first-indigenous-bomber-uav-unveiled-in-bengaluru-kvd-1683355.html', 'https://kannada.news18.com/news/state/prajwal-revanna-hd-kumaraswamy-said-that-sit-notice-should-be-given-to-rahul-gandhi-ach-1683311.html', 'https://kannada.news18.com/news/state/bengaluru-mysuru-expressway-flooded-vehicle-movement-disrupted-mrq-1683283.html', 'https://kannada.news18.com/news/state/congress-leader-said-that-those-who-say-jai-shri-ram-should-be-kicked-in-the-boot-by-the-police-ach-1683117.html', 'https://kannada.news18.com/news/state/air-conditioner-blast-at-kalyan-jewelers-showroom-in-bellary-lg-1683074.html', 'https://kannada.news18.com/news/state/another-fir-filed-against-jds-mp-prajwal-revanna-mrq-1683065.html', 'https://kannada.news18.com/news/state/legislative-council-election-2024-election-commission-of-india-declared-election-date-lg-1682880.html', 'https://kannada.news18.com/news/state/cm-siddaramaiah-says-we-will-bring-prajwal-revanna-wherever-he-goes-sns-1682762.html', 'https://kannada.news18.com/news/state/husband-murdered-his-wife-in-middle-of-the-street-near-dcp-s-office-in-bengaluru-sns-1682661.html', 'https://kannada.news18.com/news/state/woman-beaten-up-after-son-elopes-with-girl-in-haveri-sns-1682572.html', 'https://kannada.news18.com/news/tumakuru/application-invited-from-siddaganga-mutt-orphaned-school-smp-ggb-1682517.html', 'https://kannada.news18.com/news/state/fir-against-three-for-killing-a-cat-in-hospet-ggb-1682469.html', 'https://kannada.news18.com/news/state/women-fight-for-seat-on-free-bus-driver-stopped-bus-in-the-middle-of-the-road-in-vijayapura-sns-1682421.html', 'https://kannada.news18.com/news/state/another-shock-for-hd-revanna-another-complaint-filed-against-ex-minister-in-mysuru-sns-1682388.html', 'https://kannada.news18.com/news/state/prajwal-revanna-complaint-from-another-victim-hd-revanna-moves-to-court-for-anticipatory-bail-sns-1682287.html', 'https://kannada.news18.com/news/state/neha-hiremath-murder-is-a-case-of-love-jihad-amit-shah-to-news18-mrq-1682179.html', 'https://kannada.news18.com/news/national-international/amit-shah-to-news18-amit-shah-talks-about-karnataka-politics-ach-1682171.html', 'https://kannada.news18.com/news/state/neha-s-father-niranjan-hiremath-address-media-in-minister-laxmi-hebbalkar-s-residency-mrq-1682054.html', 'https://kannada.news18.com/news/state/hd-revanna-has-applied-for-anticipatory-bail-ach-1681873.html', 'https://kannada.news18.com/news/entertainment/i-am-a-big-fan-of-rahul-gandhi-kannada-actor-shiva-rajkumar-said-pvn-1681866.html', 'https://kannada.news18.com/news/explained/prajwal-revanna-case-what-are-the-controversies-in-their-family-lg-1681824.html', 'https://kannada.news18.com/news/state/a-young-man-set-fire-to-the-house-of-a-married-woman-mrq-1681827.html', 'https://kannada.news18.com/news/state/rahul-gandhi-slams-modi-and-amit-shah-on-prajwal-revanna-pen-drive-case-mrq-1681446.html', 'https://kannada.news18.com/news/state/a-prisoner-swallows-mobile-phone-to-hide-it-from-authorities-at-shimoga-lg-1681721.html', 'https://kannada.news18.com/news/raichur/raichur-youth-cooked-omelette-without-fire-but-by-sun-ggb-1681619.html', 'https://kannada.news18.com/news/state/bengaluru-residents-are-buying-acs-to-fight-harsh-summer-lg-1681368.html', 'https://kannada.news18.com/news/state/mlc-suraj-revanna-first-reaction-about-mp-prajwal-revanna-pen-drive-case-sns-1681395.html', 'https://kannada.news18.com/news/state/karnataka-sit-issued-lookout-notice-against-hassan-mp-prajwal-revanna-in-pendrive-case-sns-1681322.html', 'https://kannada.news18.com/news/state/karnataka-home-minister-dr-g-parameshwara-hints-hd-revanna-arrest-in-harassment-case-sns-1681175.html', 'https://kannada.news18.com/news/state/independent-candidate-k-s-eshwarappa-hits-out-at-bs-yediyurappa-lg-1681050.html', 'https://kannada.news18.com/news/state/bengaluru-it-shock-for-zameer-ahmed-it-officials-raids-former-congress-mlc-s-residence-in-bengaluru-sns-1680896.html', 'https://kannada.news18.com/news/bengaluru-urban/ksrtc-special-bus-facility-packages-to-shirdi-latur-bangalore-murudeshwar-what-is-the-package-smp-ggb-1680500.html', 'https://kannada.news18.com/news/state/yesudas-has-been-appointed-as-the-new-aeo-of-kukke-subrahmanya-temple-dakshina-kannada-sns-1680729.html', 'https://kannada.news18.com/news/bengaluru-urban/bengaluru-traffic-advisory-for-regarding-commencement-of-220kv-cable-laying-work-by-bmrcl-smp-ggb-1680289.html', 'https://kannada.news18.com/news/state/prajwal-revanna-pendrive-case-hd-kumaraswamy-vs-dk-suresh-talk-war-sns-1680693.html', 'https://kannada.news18.com/news/explained/lok-sabhe-election-uttara-kannada-constituency-ach-1678681.html', 'https://kannada.news18.com/news/state/karnataka-government-has-to-release-more-than-700-crore-milk-incentive-funds-to-the-farmers-sns-1680531.html', 'https://kannada.news18.com/news/state/prajwal-revanna-pendrive-case-what-will-the-sit-investigation-look-like-and-what-happened-so-far-sns-1679580.html', 'https://kannada.news18.com/news/state/ramanagara-congress-mla-iqbhal-hussain-video-victim-filed-complaint-in-ramanagara-police-station-mrq-1680429.html', 'https://kannada.news18.com/news/state/who-sent-prajwal-revanna-s-car-driver-karthik-to-malaysia-mrq-1680379.html', 'https://kannada.news18.com/news/state/amit-shah-met-neha-hiremath-parents-mrq-1680310.html', 'https://kannada.news18.com/news/national-international/ancestors-rising-stone-boat-is-visible-in-uttara-kannada-many-stories-behind-it-abn-svl-ggb-1676772.html', 'https://kannada.news18.com/news/state/mahanayaka-is-behind-the-prajwal-revanna-pen-drive-case-hd-kumaraswamy-slams-against-dcm-dk-sivakumar-akd-1677866.html', 'https://kannada.news18.com/news/state/prajwal-revanna-pendrive-scandal-case-prajwal-revanna-suspended-from-jds-party-mla-gt-deve-gowda-announced-akd-1677817.html', 'https://kannada.news18.com/news/state/prajwal-revannas-ex-car-driver-made-a-video-and-disclosed-shocking-information-about-pendrive-case-akd-1677686.html', 'https://kannada.news18.com/news/state/bjp-mp-pratap-simha-and-other-bjp-leaders-attend-last-rites-of-v-srinivas-prasad-lg-1677659.html', 'https://kannada.news18.com/news/national-international/amit-shah-reaction-on-prajwal-revanna-pendrive-scandal-said-that-not-be-tolerated-ggb-1677670.html', 'https://kannada.news18.com/news/state/prajwal-revanna-pendrive-scandal-case-jds-core-committee-calls-important-meeting-today-akd-1677655.html', 'https://kannada.news18.com/news/state/lok-sabha-election-2024-lingayat-votes-are-the-target-of-congress-bjp-in-bidar-lok-sabha-election-akd-1677531.html', 'https://kannada.news18.com/news/state/prajwal-revanna-sex-scandal-case-sit-investigation-by-3-teams-has-been-intensified-from-today-akd-1677429.html', 'https://kannada.news18.com/news/state/the-karnataka-government-declared-holiday-in-2-districts-today-due-to-the-death-of-mp-srinivas-prasad-akd-1677344.html', 'https://kannada.news18.com/news/state/pm-modi-to-news-18-prime-minister-narendra-modi-talks-about-his-energy-ach-1677196.html', 'https://kannada.news18.com/news/state/hassan-dc-satyabhama-recation-on-prajwal-revanna-pen-drive-case-ach-1676992.html', 'https://kannada.news18.com/news/state/five-engineering-students-who-went-on-a-trip-drowned-in-ramnagar-s-mekedatu-sangama-river-pjl-1676965.html', 'https://kannada.news18.com/news/state/prajwal-revanna-pen-drive-case-press-conference-by-relatives-against-the-victim-ach-1676872.html', 'https://kannada.news18.com/news/state/hd-revanna-first-reaction-about-prajwal-revanna-obscene-video-case-and-harassment-case-sns-1676763.html', 'https://kannada.news18.com/news/state/lok-sabha-elections-2024-pm-modi-addressing-public-meeting-in-bagalakote-sns-1676673.html', 'https://kannada.news18.com/news/state/hd-kumaraswamy-fresh-comments-on-prajwal-revanna-pendrive-case-in-shivamogga-sns-1676560.html', 'https://kannada.news18.com/news/state/jds-mla-samruddhi-manjunath-demanded-suspend-of-revanna-prajwal-revanna-from-party-sns-1676346.html', 'https://kannada.news18.com/news/state/prajwal-revanna-pen-drive-video-case-sit-is-preparing-to-issue-notice-to-father-and-son-sns-1676267.html', 'https://kannada.news18.com/news/state/gurumatkal-jds-mla-sharangowda-kandakur-wrote-letter-to-hd-deve-gowda-regarding-prajwal-revanna-pen-drive-case-sns-1676151.html', 'https://kannada.news18.com/news/state/srinivas-prasad-wrote-coffee-and-drank-two-sips-of-coffee-mp-final-moments-sns-1676044.html', 'https://kannada.news18.com/news/state/all-you-want-know-about-chamarajanagar-mp-v-srinivas-prasad-life-family-and-political-career-sns-1676025.html', 'https://kannada.news18.com/news/state/chamarajanagar-mp-srinivas-prasad-passed-away-due-to-a-heart-attack-sns-1676009.html', 'https://kannada.news18.com/news/state/prajwal-revanna-pen-drive-case-basanagouda-patil-yatnal-said-that-there-is-a-dk-shivakumar-s-pen-drive-ach-1675870.html', 'https://kannada.news18.com/news/state/narendra-modi-mentioned-about-the-rameswaram-cafe-bomb-blast-case-in-his-speech-in-hosapete-ach-1675771.html', 'https://kannada.news18.com/news/state/pm-modi-to-news18-narendra-modi-talked-about-how-many-seats-bjp-will-win-in-karnataka-ach-1675612.html', 'https://kannada.news18.com/news/state/fir-filed-against-hd-revanna-and-prajwal-in-holenarasipura-police-station-mrq-1675661.html', 'https://kannada.news18.com/news/state/hassan-pen-drive-case-congress-leader-bhavya-narasimhamurthy-questioned-bjp-and-jds-leaders-mrq-1675605.html', 'https://kannada.news18.com/news/state/narendra-modi-expressed-anger-against-the-congress-on-the-issue-of-ayodhya-ram-mandir-ach-1675557.html', 'https://kannada.news18.com/news/state/hassan-pen-drive-case-state-government-order-to-form-sit-team-mrq-1675447.html', 'https://kannada.news18.com/news/state/jds-core-committee-president-gt-devegowda-first-reaction-about-prajwal-revanna-pendrive-case-sns-1675405.html', 'https://kannada.news18.com/news/state/mp-pen-drive-case-fir-filed-against-naveen-gowda-in-hassan-mrq-1675329.html', 'https://kannada.news18.com/news/state/hd-kumaraswamy-first-reaction-about-mp-prajwal-revanna-s-obscenece-video-case-and-sit-investigation-sns-1675294.html', 'https://kannada.news18.com/news/state/pendrive-case-victim-filed-complaint-mrq-1675262.html', 'https://kannada.news18.com/news/national-international/swiggy-to-pay-rs-5000-to-customer-for-undelivered-death-by-chocolate-ice-cream-akd-1675234.html', 'https://kannada.news18.com/news/state/centre-release-drought-relief-to-karnataka-rs-3454-crore-sns-1673311.html', 'https://kannada.news18.com/news/state/lok-sabha-election-2024-evm-machines-are-sealed-and-stored-in-strong-room-lg-1673205.html', 'https://kannada.news18.com/news/state/karnataka-elections-2024-rankahale-for-2nd-phase-lok-sabha-election-sns-1671932.html', 'https://kannada.news18.com/news/state/lok-sabha-poll-2024-mandya-constituency-is-the-highest-record-of-polling-this-time-lg-1673168.html', 'https://kannada.news18.com/news/state/fight-between-jds-and-congress-workers-in-holenarasipur-hassan-ach-1673080.html', 'https://kannada.news18.com/news/state/karnataka-s-first-phase-of-voting-ends-how-many-votes-in-which-region-pjl-1672756.html', 'https://kannada.news18.com/news/state/ks-eshwarappa-s-reaction-to-shiva-rajkumar-s-campaign-ach-1672867.html', 'https://kannada.news18.com/news/state/i-will-win-highest-majority-in-the-state-says-mandya-nda-contestant-hd-kumaraswamy-mbr-1672763.html', 'https://kannada.news18.com/news/state/cm-siddaramaiah-arrives-and-rahul-gandhi-exits-the-stage-in-vijayapura-ach-1672670.html', 'https://kannada.news18.com/news/state/dk-shivakumar-daughter-aishwaray-casts-her-vote-in-doddalahalli-mrq-1672690.html', 'https://kannada.news18.com/news/state/woman-from-mandya-living-in-london-come-to-cast-her-votes-know-how-much-spend-mbr-1672620.html', 'https://kannada.news18.com/news/state/neha-hiremath-murder-case-security-has-been-provided-at-niranjan-hiremath-s-house-in-hubballi-ach-1672419.html', 'https://kannada.news18.com/news/hassan/two-friends-meet-first-time-after-their-wedding-in-polling-booth-in-hassan-ggb-1672545.html', 'https://kannada.news18.com/news/state/bjp-mla-basanagouda-patil-yatnal-controversy-statement-on-rahul-gandhi-and-his-family-mrq-1672479.html', 'https://kannada.news18.com/news/state/hd-kumaraswamy-said-i-went-to-sumalatha-s-house-and-asked-for-cooperation-mrq-1672403.html', 'https://kannada.news18.com/news/state/why-did-congress-decide-to-put-money-in-women-s-account-mrq-1672274.html', 'https://kannada.news18.com/news/state/congress-candidate-dk-suresh-hits-out-at-bjp-and-jds-leaders-lg-1672269.html', 'https://kannada.news18.com/news/chitradurga/young-woman-from-chitradurga-came-from-the-philippines-to-vote-in-lok-sabha-elections-ggb-1672065.html', 'https://kannada.news18.com/news/state/sumalath-ambareesh-reacts-on-hd-devegowda-s-allegations-mrq-1672073.html', 'https://kannada.news18.com/news/state/los-sabha-election-2024-what-is-the-reason-behind-less-votes-in-bengaluru-lg-1672047.html', 'https://kannada.news18.com/news/state/hd-devegowda-challenges-to-cm-and-dcm-mrq-1671962.html', 'https://kannada.news18.com/news/state/rahul-gandhi-election-campaign-in-bellary-and-vijayapura-today-sns-1671851.html', 'https://kannada.news18.com/news/state/doctor-ganesh-saves-life-of-woman-in-polling-booth-mrq-1671847.html', 'https://kannada.news18.com/news/state/ramanagara-hd-kumaraswamy-alleged-distribution-guarantee-cards-by-congress-in-bengaluru-rural-sns-1671640.html', 'https://kannada.news18.com/news/state/lok-sabha-election-2024-infosys-narayana-murthy-and-sudha-murthy-caste-their-vote-today-lg-1671402.html', 'https://kannada.news18.com/news/state/mandya-lok-sabha-constituency-will-actress-ramya-vote-at-least-this-time-sns-1671353.html', 'https://kannada.news18.com/news/state/lok-sabha-election-2024-what-is-open-and-what-is-closed-today-in-bengaluru-lg-1671365.html', 'https://kannada.news18.com/news/state/lok-sabha-elections-2024-polling-in-13-states-88-constituencies-mock-voting-before-polling-has-started-in-14-constituencies-of-karnataka-sns-1671340.html', 'https://kannada.news18.com/news/national-international/karnataka-lok-sabha-elections-2024-voting-phase-2-live-updates-1671339.html', 'https://kannada.news18.com/news/state/neha-hiremath-s-father-niranjan-hiremath-has-demanded-that-fayaz-be-hanged-ach-1671192.html', 'https://kannada.news18.com/news/state/cm-siddaramaiah-condolences-to-neha-hiremath-s-family-mrq-1670261.html', 'https://kannada.news18.com/news/state/congress-tweeted-and-questioned-hd-kumaraswamy-about-the-pen-drive-ach-1670957.html', 'https://kannada.news18.com/news/state/bengaluru-crime-up-gang-robber-doctor-house-at-gunpoint-kvd-1670911.html', 'https://kannada.news18.com/news/state/dinesh-gundu-rao-says-why-pm-modi-telling-lies-mrq-1670803.html', 'https://kannada.news18.com/news/state/janardhan-pujari-blessed-dakshina-kannada-bjp-candidate-brijesh-chowta-ach-1670667.html', 'https://kannada.news18.com/news/state/hubballi-lawyers-demand-that-accused-fayaz-s-name-be-given-to-the-toilet-mrq-1670675.html', 'https://kannada.news18.com/news/state/bengaluru-s-water-crisis-bwssb-cauvery-water-daily-lost-to-pilferage-sns-1670288.html', 'https://kannada.news18.com/news/state/karnataka-lok-sabha-election-14-constituencies-candidates-list-sns-1670142.html', 'https://kannada.news18.com/news/state/nandi-hills-closed-for-tourists-from-today-6-pm-to-friday-8-pm-mrq-1670191.html', 'https://kannada.news18.com/news/state/dcm-dk-shivakumar-reacts-on-am-pitroda-s-inheritance-tax-statement-mrq-1670061.html', 'https://kannada.news18.com/news/hubballi-dharwad/hubballi-dharwad-water-supply-today-on-these-areas-ggb-3-1669855.html', 'https://kannada.news18.com/news/uttara-kannada/renowned-yakshagana-bhagavata-subramanya-dhareshwar-died-in-bengaluru-abn-ggb-1669879.html', 'https://kannada.news18.com/news/state/neha-hiremath-father-demands-narco-test-on-accused-sns-1669838.html', 'https://kannada.news18.com/news/state/how-did-fayaz-know-about-neha-hiremath-coming-to-college-mrq-1669839.html', 'https://kannada.news18.com/news/state/all-you-want-know-about-pm-narendra-modi-rally-in-belagavi-on-april-28-sns-1669820.html', 'https://kannada.news18.com/news/state/karnataka-lok-sabha-election-14-constituency-voting-full-details-sns-1669732.html', 'https://kannada.news18.com/news/state/cm-siddaramaiah-says-muslims-have-been-included-in-category-2b-of-backward-castes-in-karnataka-sns-1669627.html', 'https://kannada.news18.com/news/state/bengaluru-election-officials-raid-house-of-actress-amulya-father-in-law-home-31-liquor-seized-sns-1669583.html', 'https://kannada.news18.com/news/state/election-commission-deploy-7-paramilitary-forces-in-bengaluru-rural-constituency-web-casting-in-2829-polling-stations-sns-1669308.html', 'https://kannada.news18.com/news/state/bajrang-dal-worker-has-been-exiled-in-chikkamagaluru-ach-1669383.html', 'https://kannada.news18.com/news/state/who-leaked-neha-hiremath-and-fayaz-s-photos-mrq-1669343.html', 'https://kannada.news18.com/news/state/lok-sabha-election-2024-preparations-in-bengaluru-for-polling-ach-1669345.html', 'https://kannada.news18.com/news/state/it-raid-on-dk-suresh-s-friends-houses-ach-1669214.html', 'https://kannada.news18.com/news/state/here-are-the-complete-details-of-voting-day-lok-sabha-election-2024-in-bengaluru-by-bbmp-sns-1669226.html', 'https://kannada.news18.com/news/state/world-famous-bangalore-karaga-festival-2024-held-in-bangalore-but-millions-of-devotees-feel-unhappy-sns-1668812.html', 'https://kannada.news18.com/news/state/congress-president-mallikarjun-kharge-emotional-speech-in-afzalpur-mrq-1669155.html', 'https://kannada.news18.com/news/crime/neha-hiremath-murder-case-fayaz-had-bought-a-knife-5-days-before-the-murder-ach-1668900.html', 'https://kannada.news18.com/news/state/extension-of-metro-service-for-lok-sabha-elections-2024-on-april-26-mrq-1668885.html', 'https://kannada.news18.com/news/state/all-muslims-of-karnataka-state-have-been-considered-as-obc-mrq-1668823.html', 'https://kannada.news18.com/news/state/lok-sabha-election-2024-election-commission-keep-put-double-force-on-bengaluru-rural-constituency-lg-1668687.html', 'https://kannada.news18.com/news/uttara-kannada/foreign-lady-starts-summer-camp-for-poor-children-in-uttara-kannada-abn-svl-1667580.html', 'https://kannada.news18.com/news/state/karnataka-chief-electoral-officer-manoj-kumar-meena-talks-about-election-preparation-lg-1668527.html', 'https://kannada.news18.com/news/state/do-you-planning-for-trip-on-lok-sabha-election-voting-day-ksrtc-bmtc-buses-are-less-ggb-1668401.html', 'https://kannada.news18.com/news/state/actor-darshan-cancelled-election-campaign-in-mandya-last-day-due-to-hand-pain-in-last-minute-sns-1668371.html', 'https://kannada.news18.com/news/state/businessman-kp-nanjundi-joins-congress-party-today-sns-1668241.html', 'https://kannada.news18.com/news/state/countdown-begins-for-zero-shadow-day-in-bengaluru-sns-1668194.html', 'https://kannada.news18.com/news/bengaluru-urban/bangalore-nisarga-grand-hotel-announces-free-food-to-one-who-vote-smp-ggb-1668102.html', 'https://kannada.news18.com/news/state/minister-kh-muniyappa-did-not-campaign-on-behalf-of-kolar-congress-candidate-gautam-in-2024-lok-sabha-elections-sns-1668142.html', 'https://kannada.news18.com/news/state/karnataka-cm-siddaramaiah-orders-cid-investigation-in-neha-hiremath-murder-case-special-court-for-speedy-trial-sns-1665224.html', 'https://kannada.news18.com/news/state/neha-hiremath-murder-case-congress-councillor-niranjan-hiremath-demand-case-should-be-given-to-cbi-sns-1664977.html', 'https://kannada.news18.com/news/state/big-twist-in-four-of-family-found-murdered-case-gadaga-police-arreseted-one-accused-sns-1664928.html', 'https://kannada.news18.com/news/koppala/indian-railways-cancelled-stops-on-these-stations-between-koppal-to-hospet-ggb-1664878.html', 'https://kannada.news18.com/news/state/son-set-fire-to-uncle-by-pouring-petrol-in-the-middle-of-the-road-in-tamil-nadu-sns-1664825.html', 'https://kannada.news18.com/news/bengaluru-urban/new-gift-scam-alert-in-bengaluru-if-you-scan-the-qr-code-on-git-account-will-be-hacked-ggb-1663271.html', 'https://kannada.news18.com/news/state/jp-nadda-warning-to-karnataka-bjp-leader-over-confidence-in-lok-sabha-elections-2024-sns-1664789.html', 'https://kannada.news18.com/news/state/bengaluru-rural-constituency-has-been-declared-as-sensitive-constituency-by-the-election-commission-sns-1664721.html', 'https://kannada.news18.com/news/state/bengaluru-accident-7-members-are-wounded-and-a-girl-died-in-incident-lg-1664648.html', 'https://kannada.news18.com/news/state/massive-protest-across-in-karnataka-condemning-neha-s-murder-half-day-bandh-in-dharwad-sns-1664054.html', 'https://kannada.news18.com/news/crime/crime-news-today-6-people-drowned-in-the-river-and-died-ach-1664557.html', 'https://kannada.news18.com/news/state/narendra-modi-has-written-to-dr-manjunath-and-yaduveer-wadiyar-ach-1664508.html', 'https://kannada.news18.com/news/state/siddaramaiah-tweeted-the-pm-narendra-modi-as-nalayak-ach-1664381.html', 'https://kannada.news18.com/news/state/jp-nadda-visits-neha-hiremath-s-house-ach-1664333.html', 'https://kannada.news18.com/news/state/ramesh-kumar-has-sent-shani-to-prime-minister-narendra-modi-ach-1664152.html', 'https://kannada.news18.com/news/state/tumakuru-fir-filed-against-hd-kumaraswamy-on-court-instructions-sns-1664021.html', 'https://kannada.news18.com/news/state/bengaluru-rr-nagar-bjp-mla-munirathna-said-i-will-hold-dcm-dk-shivakumar-leg-again-over-law-and-order-sns-1663955.html', 'https://kannada.news18.com/news/state/karnataka-reported-more-than-28-657-teen-pregnancies-in-state-sns-1663920.html', 'https://kannada.news18.com/news/state/married-women-found-dead-in-his-home-at-ganesh-nagar-in-kodigehalli-in-bengaluru-sns-1663880.html', 'https://kannada.news18.com/news/state/karnataka-kmf-s-nandini-to-sponsor-scotland-and-ireland-cricket-teams-for-t20-world-cup-and-to-launch-new-product-sns-1663760.html', 'https://kannada.news18.com/news/state/star-campaign-in-rural-bengaluru-actor-darshan-for-dk-suresh-actor-pawan-kalyan-for-dr-cn-manjunath-sns-1663666.html', 'https://kannada.news18.com/news/state/award-announcement-for-the-police-who-arrested-neha-case-accused-fayaz-in-one-hour-sns-1663596.html', 'https://kannada.news18.com/news/state/zameer-ahmed-spoke-against-hd-kumaraswamy-ach-1663547.html', 'https://kannada.news18.com/news/state/jagdish-shettar-s-reaction-on-neha-hiremath-murder-case-ach-1663496.html', 'https://kannada.news18.com/news/state/dk-shivakumar-s-reaction-against-hd-deve-gowda-ach-1663357.html', 'https://kannada.news18.com/news/state/prime-minister-narendra-modi-expressed-outrage-against-the-siddaramaiah-government-ach-1663404.html', 'https://kannada.news18.com/news/state/pm-modi-in-bangalore-talks-about-indian-economy-kvd-1663368.html', 'https://kannada.news18.com/news/state/pm-modi-in-chikkaballapur-3-crore-homes-to-be-built-kvd-1663296.html', 'https://kannada.news18.com/news/state/hd-deve-gowda-s-speech-at-narendra-modi-s-campaign-in-chikkaballapur-ach-1663282.html', 'https://kannada.news18.com/news/state/dingaleshwara-seer-slams-bjp-mla-basanagowda-patil-yatnal-mrq-1663263.html', 'https://kannada.news18.com/news/state/explosive-information-about-hubballi-neha-hermit-case-accused-fayaz-sns-1663140.html', 'https://kannada.news18.com/news/state/high-court-stayed-the-notice-issued-by-the-women-s-commission-to-hd-kumaraswamy-ach-1661964.html', 'https://kannada.news18.com/news/bengaluru-urban/bengaluru-traffic-diversion-tomorrow-restrictions-on-these-roads-alternative-roads-here-ggb-1662092.html', 'https://kannada.news18.com/news/state/congress-corporator-niranjan-hiremath-requests-pralhad-joshi-to-get-justice-for-daughter-s-death-mrq-1662086.html', 'https://kannada.news18.com/news/state/young-man-was-attacked-in-mysore-for-writing-a-song-about-narendra-modi-ach-1661969.html', 'https://kannada.news18.com/news/state/neha-s-father-niranjan-hiremath-slams-siddaramaiaha-and-g-parameshwar-mrq-1661997.html', 'https://kannada.news18.com/news/state/kr-ramesh-kumar-slams-srinivaspur-voters-over-his-defeat-in-assembly-elections-sns-1661797.html', 'https://kannada.news18.com/news/state/ex-minister-malikayya-guttedar-joins-congress-party-today-in-bengaluru-sns-1661607.html', 'https://kannada.news18.com/news/state/six-incidents-in-three-days-8-killed-in-karnataka-sns-1661466.html', 'https://kannada.news18.com/news/jobs/education-out-of-syllabus-stumble-in-cet-exam-confusion-for-students-sng-1661322.html', 'https://kannada.news18.com/news/state/bjp-worker-dies-after-car-hits-in-kodagu-at-kushalnagar-sns-1661269.html', 'https://kannada.news18.com/news/bengaluru-urban/bengaluru-to-kalaburagi-summer-special-trains-announced-check-time-table-here-ggb-1661187.html', 'https://kannada.news18.com/news/state/bengaluru-citys-first-ever-skywalk-has-reached-a-dilapidated-state-without-bbmps-maintenance-akd-1661038.html']\n"
          ]
        }
      ]
    },
    {
      "cell_type": "code",
      "source": [
        "len(linklist)"
      ],
      "metadata": {
        "colab": {
          "base_uri": "https://localhost:8080/"
        },
        "id": "A77eHQz18-qa",
        "outputId": "3b5452a5-d282-4bd7-e005-9f903e728133"
      },
      "execution_count": 19,
      "outputs": [
        {
          "output_type": "execute_result",
          "data": {
            "text/plain": [
              "300"
            ]
          },
          "metadata": {},
          "execution_count": 19
        }
      ]
    },
    {
      "cell_type": "code",
      "source": [
        "linklist"
      ],
      "metadata": {
        "colab": {
          "base_uri": "https://localhost:8080/"
        },
        "id": "wb40dTN_9buY",
        "outputId": "d72f675a-c2a7-4baf-a96e-a45533e8916c"
      },
      "execution_count": 17,
      "outputs": [
        {
          "output_type": "execute_result",
          "data": {
            "text/plain": [
              "['https://kannada.news18.com/news/state/this-is-the-main-reason-for-traffic-jam-in-bangalore-traffic-police-data-revealed-stg-pjl-1699562.html',\n",
              " 'https://kannada.news18.com/news/state/after-neha-hiremath-young-woman-killed-for-rejecting-love-proposal-in-hubballi-sns-1699745.html',\n",
              " 'https://kannada.news18.com/news/hubballi-dharwad/south-western-railway-continuous-hubballi-special-trains-ggb-1699699.html',\n",
              " 'https://kannada.news18.com/news/state/home-alone-woman-murdered-for-gold-chain-tenant-arrested-by-kengeri-police-bengaluru-sns-1699575.html',\n",
              " 'https://kannada.news18.com/news/state/nanjangud-nanjundeshwara-temple-hundi-counting-rs-1-72-cr-collected-sns-1699460.html',\n",
              " 'https://kannada.news18.com/news/state/after-coming-out-of-parappana-agrahara-prison-hd-revanna-temple-run-to-get-rid-of-the-trouble-sns-1699419.html',\n",
              " 'https://kannada.news18.com/news/state/prajwal-revanna-is-likely-to-come-to-bengaluru-tomorrow-ach-1699398.html',\n",
              " 'https://kannada.news18.com/news/state/petition-to-the-high-court-to-file-a-complaint-against-those-who-made-prajwal-revanna-s-pen-drive-viral-ach-1699377.html',\n",
              " 'https://kannada.news18.com/news/state/hd-revanna-visits-chamundeshwari-temple-in-mysore-ach-1699344.html',\n",
              " 'https://kannada.news18.com/news/state/hd-revanna-s-reaction-to-the-kidnapping-allegations-against-him-ach-1699270.html',\n",
              " 'https://kannada.news18.com/news/state/sit-raids-pritam-gowda-s-close-friends-bar-and-hotels-in-hassan-ach-1699170.html',\n",
              " 'https://kannada.news18.com/news/state/hd-revanna-visited-temple-after-being-released-from-jail-ach-1699003.html',\n",
              " 'https://kannada.news18.com/news/bengaluru-urban/bengaluru-traffic-advisory-hebbal-flyover-closed-from-today-for-all-types-of-vehicles-ggb-1698751.html',\n",
              " 'https://kannada.news18.com/news/state/kidnap-case-after-10-days-of-exile-hd-revanna-finally-came-out-of-parappana-agrahara-jail-akd-1698663.html',\n",
              " 'https://kannada.news18.com/news/state/congress-high-command-send-message-to-after-eknath-shinde-statement-sns-1698417.html',\n",
              " 'https://kannada.news18.com/news/state/siddaramaiah-and-dk-shivakumar-plan-operation-congress-after-election-results-sns-1698167.html',\n",
              " 'https://kannada.news18.com/news/state/hd-revanna-release-today-afternoon-mrq-1698151.html',\n",
              " 'https://kannada.news18.com/news/state/heavy-rain-in-bengaluru-ach-1698111.html',\n",
              " 'https://kannada.news18.com/news/state/fact-check-is-it-true-that-the-pakistan-flag-was-waved-in-the-congress-meeting-held-near-gubbi-gate-in-tumkuru-sns-1698049.html',\n",
              " 'https://kannada.news18.com/news/state/revanna-likely-to-be-release-for-jail-on-tuesday-high-security-deployed-near-parappana-agrahara-mbr-1698077.html',\n",
              " 'https://kannada.news18.com/news/state/hd-revanna-will-not-be-released-from-jail-today-ach-1697901.html',\n",
              " 'https://kannada.news18.com/news/state/former-minister-revanna-get-bail-from-woman-kidnap-case-mbr-1697765.html',\n",
              " 'https://kannada.news18.com/news/state/hasan-former-mla-preetham-gowda-first-reaction-on-prajwal-revanna-pendrive-case-mbr-1697720.html',\n",
              " 'https://kannada.news18.com/news/state/hd-revanna-bail-application-hearing-in-court-ach-1697645.html',\n",
              " 'https://kannada.news18.com/news/state/bjp-raghupathi-bhatt-is-upset-after-bjp-ticket-miss-for-karnataka-mlc-election-2024-sns-1695808.html',\n",
              " 'https://kannada.news18.com/news/state/cet-registration-for-neet-candidates-kea-clarifies-rumors-sns-1695791.html',\n",
              " 'https://kannada.news18.com/news/state/pendrive-case-mp-prajwal-revanna-not-found-after-16-days-sit-team-searching-in-europe-sns-1695784.html',\n",
              " 'https://kannada.news18.com/news/state/education-minister-madhu-bangarappa-says-i-find-it-a-little-difficult-to-read-kannada-but-it-s-good-to-talk-sns-1695771.html',\n",
              " 'https://kannada.news18.com/news/state/devaraje-gowda-has-been-remanded-in-judicial-custody-for-14-days-ach-1695660.html',\n",
              " 'https://kannada.news18.com/news/state/heavy-rains-in-many-parts-of-the-state-ach-1695585.html',\n",
              " 'https://kannada.news18.com/news/state/bjp-leader-advocate-devarajegowda-arrest-in-harass-mbr-1695396.html',\n",
              " 'https://kannada.news18.com/news/state/kas-official-wife-high-court-advocate-committed-suicide-in-bengaluru-mbr-1695293.html',\n",
              " 'https://kannada.news18.com/news/state/harassment-by-giving-electric-shock-to-merchant-private-part-in-kalaburgi-sns-1695116.html',\n",
              " 'https://kannada.news18.com/news/state/kodagu-sslc-student-murder-case-big-twist-minor-girl-head-found-on-the-tree-sns-1695050.html',\n",
              " 'https://kannada.news18.com/news/state/pralhad-joshi-says-devarajegowda-s-arrest-is-a-political-conspiracy-sns-1695071.html',\n",
              " 'https://kannada.news18.com/news/bengaluru-urban/tree-census-again-in-bengaluru-why-and-what-is-the-significance-ggb-1695015.html',\n",
              " 'https://kannada.news18.com/news/state/kolar-pregnant-who-took-the-pill-thinking-baby-girl-baby-boy-discovered-after-abortion-sns-1694996.html',\n",
              " 'https://kannada.news18.com/news/education-3/chikkamagaluru-muslim-girl-bagged-cent-percent-in-sanskrit-irk-1694732.html',\n",
              " 'https://kannada.news18.com/news/state/kodagu-sslc-student-murder-case-accused-arrested-search-by-police-dogs-for-girl-head-sns-1694537.html',\n",
              " 'https://kannada.news18.com/news/state/sit-chief-send-strict-message-to-his-investigation-team-sns-1694541.html',\n",
              " 'https://kannada.news18.com/news/national-international/karnatakas-social-worker-ks-rajanna-who-lost-arms-and-legs-gets-padma-shri-for-exemplary-social-work-akd-1694487.html',\n",
              " 'https://kannada.news18.com/news/state/bengaluru-rains-over-70-trees-crashing-across-bengaluru-how-much-rain-has-it-had-anywhere-complete-report-sns-1694335.html',\n",
              " 'https://kannada.news18.com/news/state/prajwal-revanna-pen-drive-case-devarajegowda-arrest-ach-1694334.html',\n",
              " 'https://kannada.news18.com/news/crime/today-s-crime-news-in-karnataka-ach-1694268.html',\n",
              " 'https://kannada.news18.com/news/state/dk-shivakumar-retaliated-against-hd-kumaraswamy-through-basavanna-s-vachana-ach-1694172.html',\n",
              " 'https://kannada.news18.com/news/crime/kodagu-sslc-student-murder-accused-suicide-ach-1694030.html',\n",
              " 'https://kannada.news18.com/news/state/another-complaint-has-been-registered-against-prajwal-revanna-ach-1693926.html',\n",
              " 'https://kannada.news18.com/news/state/big-twist-for-prajwal-revanna-pendrive-case-lawyer-devaraj-gowda-is-in-trouble-sns-1693619.html',\n",
              " 'https://kannada.news18.com/news/state/praveen-nettaru-case-accused-arrested-by-nia-in-sakaleshpura-sns-1693310.html',\n",
              " 'https://kannada.news18.com/news/chitradurga/new-vatu-acceptance-for-madara-chennaiah-gurupeeta-chitradurga-ggb-1693280.html',\n",
              " 'https://kannada.news18.com/news/hubballi-dharwad/nwkrtc-starts-special-buses-for-basava-jayanti-and-long-holidays-ggb-1693206.html',\n",
              " 'https://kannada.news18.com/news/state/guest-lecturer-surrenders-to-death-in-hassan-sns-1693059.html',\n",
              " 'https://kannada.news18.com/news/state/sslc-student-murdered-in-kodagu-in-somwarpet-sns-1692798.html',\n",
              " 'https://kannada.news18.com/news/state/there-was-an-uproar-at-saint-philomena-s-college-in-mysore-due-to-the-singing-of-rama-s-song-pratap-simha-ach-1692876.html',\n",
              " 'https://kannada.news18.com/news/state/woman-complained-to-national-women-commission-that-she-was-pressured-to-file-a-complaint-against-prajwal-revanna-ach-1692712.html',\n",
              " 'https://kannada.news18.com/news/state/hd-revanna-to-remain-in-jail-as-court-postpones-bail-hearing-in-kidnap-case-mbr-1692745.html',\n",
              " 'https://kannada.news18.com/news/state/prajwal-revanna-pen-drive-case-hd-kumaraswamy-gave-information-about-the-pen-drive-with-him-ach-1692641.html',\n",
              " 'https://kannada.news18.com/news/state/prajwal-revanna-pen-drive-case-hd-kumaraswamy-press-meet-ach-1692472.html',\n",
              " 'https://kannada.news18.com/news/jobs/education-bagalakote-farmer-daughter-ankita-bagged-sslc-topper-irk-1692430.html',\n",
              " 'https://kannada.news18.com/news/state/congress-mla-km-shivalinge-gowda-reacts-on-prajwal-revanna-case-mrq-1692333.html',\n",
              " 'https://kannada.news18.com/news/state/karnataka-sslc-results-2024-3-sirsi-students-got-2nd-place-to-the-state-ggb-1692100.html',\n",
              " 'https://kannada.news18.com/news/state/court-has-ordered-hd-revanna-to-be-taken-into-sit-custody-ach-1686648.html',\n",
              " 'https://kannada.news18.com/news/state/prajwal-revanna-case-sit-has-started-a-helpline-for-the-victims-ach-1686608.html',\n",
              " 'https://kannada.news18.com/news/state/bbmp-will-fix-led-bulbs-for-street-light-kvd-1686630.html',\n",
              " 'https://kannada.news18.com/news/state/hd-revanna-reaction-on-kidnap-case-ach-1686552.html',\n",
              " 'https://kannada.news18.com/news/state/prajwal-revanna-has-not-come-yet-the-sit-officers-were-waiting-pjl-1686480.html',\n",
              " 'https://kannada.news18.com/news/bengaluru-urban/reports-says-55-units-power-stolen-in-bescom-limits-in-last-year-ggb-1686489.html',\n",
              " 'https://kannada.news18.com/news/state/dcm-dk-shivakumar-slaps-congress-leader-in-savanuru-mrq-1686298.html',\n",
              " 'https://kannada.news18.com/news/state/priyanka-gandhi-and-dinesh-gundu-rao-statement-on-covishield-vaccine-side-affects-mrq-1686192.html',\n",
              " 'https://kannada.news18.com/news/state/cm-siddaramaiah-exclusive-interview-for-news18-kannada-for-2nd-phase-lok-sabha-voting-sns-1686031.html',\n",
              " 'https://kannada.news18.com/news/state/where-is-prajwal-revanna-the-driver-karthik-mrq-1685814.html',\n",
              " 'https://kannada.news18.com/news/state/mother-throws-6-year-old-child-into-canal-after-fight-with-husband-sns-1685726.html',\n",
              " 'https://kannada.news18.com/news/state/hd-revanna-kidnap-case-victim-record-her-statement-mrq-1685725.html',\n",
              " 'https://kannada.news18.com/news/state/pendrive-case-bhavani-revanna-is-in-trouble-after-revanna-s-arrest-sit-notice-is-likely-to-be-issued-sns-1685643.html',\n",
              " 'https://kannada.news18.com/news/state/aicc-president-mallikarjun-kharge-reacts-on-hd-revanna-arrest-case-lg-1685523.html',\n",
              " 'https://kannada.news18.com/news/state/three-victims-who-came-in-contact-with-sit-after-revanna-s-arrest-sns-1685471.html',\n",
              " 'https://kannada.news18.com/news/state/liquor-sale-ban-for-3-days-from-today-in-14-districts-of-the-state-svl-1685361.html',\n",
              " 'https://kannada.news18.com/news/state/big-shock-for-hd-revanna-after-the-arrest-discussion-to-suspend-from-jds-party-sns-1685302.html',\n",
              " 'https://kannada.news18.com/news/state/hd-revanna-is-interrogated-by-the-sit-team-at-the-cid-office-mrq-1685159.html',\n",
              " 'https://kannada.news18.com/news/state/raichur-anti-jai-shri-ram-slogan-viral-video-case-congress-bjp-protest-ach-1684936.html',\n",
              " 'https://kannada.news18.com/news/state/did-hd-revanna-see-astrology-even-when-he-was-arrested-ach-1685047.html',\n",
              " 'https://kannada.news18.com/news/state/manipal-hospital-has-allowed-transplant-survivors-to-watch-the-rcb-match-pjl-1685103.html',\n",
              " 'https://kannada.news18.com/news/state/congress-reacts-on-hd-revanna-arrest-mrq-1685109.html',\n",
              " 'https://kannada.news18.com/news/explained/what-is-the-woman-s-kidnapping-case-that-led-to-hd-revanna-s-arrest-ach-1685077.html',\n",
              " 'https://kannada.news18.com/news/state/is-former-pm-hd-devegowda-send-message-to-prajwal-revanna-mrq-1685088.html',\n",
              " 'https://kannada.news18.com/news/state/former-minister-hd-revanna-detained-in-kidnap-case-mrq-1685035.html',\n",
              " 'https://kannada.news18.com/news/state/hd-revanna-anticipatory-bail-application-hearing-in-court-ach-1684790.html',\n",
              " 'https://kannada.news18.com/news/state/conversation-between-auto-driver-and-passenger-in-bangalore-sng-1684966.html',\n",
              " 'https://kannada.news18.com/news/state/kidnap-case-victim-rescue-by-sit-team-mrq-1684958.html',\n",
              " 'https://kannada.news18.com/news/state/indiganat-villagers-left-the-village-fearing-arrest-mrq-1684916.html',\n",
              " 'https://kannada.news18.com/news/state/minister-krishna-byre-gowda-says-bjp-released-the-video-for-three-reasons-mrq-1684771.html',\n",
              " 'https://kannada.news18.com/news/raichur/raichur-youth-cooked-omelette-without-fire-but-by-sun-ggb-1681619.html',\n",
              " 'https://kannada.news18.com/news/state/bengaluru-residents-are-buying-acs-to-fight-harsh-summer-lg-1681368.html',\n",
              " 'https://kannada.news18.com/news/state/mlc-suraj-revanna-first-reaction-about-mp-prajwal-revanna-pen-drive-case-sns-1681395.html',\n",
              " 'https://kannada.news18.com/news/state/karnataka-sit-issued-lookout-notice-against-hassan-mp-prajwal-revanna-in-pendrive-case-sns-1681322.html',\n",
              " 'https://kannada.news18.com/news/state/karnataka-home-minister-dr-g-parameshwara-hints-hd-revanna-arrest-in-harassment-case-sns-1681175.html',\n",
              " 'https://kannada.news18.com/news/state/independent-candidate-k-s-eshwarappa-hits-out-at-bs-yediyurappa-lg-1681050.html',\n",
              " 'https://kannada.news18.com/news/state/bengaluru-it-shock-for-zameer-ahmed-it-officials-raids-former-congress-mlc-s-residence-in-bengaluru-sns-1680896.html',\n",
              " 'https://kannada.news18.com/news/bengaluru-urban/ksrtc-special-bus-facility-packages-to-shirdi-latur-bangalore-murudeshwar-what-is-the-package-smp-ggb-1680500.html',\n",
              " 'https://kannada.news18.com/news/state/yesudas-has-been-appointed-as-the-new-aeo-of-kukke-subrahmanya-temple-dakshina-kannada-sns-1680729.html',\n",
              " 'https://kannada.news18.com/news/bengaluru-urban/bengaluru-traffic-advisory-for-regarding-commencement-of-220kv-cable-laying-work-by-bmrcl-smp-ggb-1680289.html',\n",
              " 'https://kannada.news18.com/news/state/prajwal-revanna-pendrive-case-hd-kumaraswamy-vs-dk-suresh-talk-war-sns-1680693.html',\n",
              " 'https://kannada.news18.com/news/explained/lok-sabhe-election-uttara-kannada-constituency-ach-1678681.html',\n",
              " 'https://kannada.news18.com/news/state/karnataka-government-has-to-release-more-than-700-crore-milk-incentive-funds-to-the-farmers-sns-1680531.html',\n",
              " 'https://kannada.news18.com/news/state/prajwal-revanna-pendrive-case-what-will-the-sit-investigation-look-like-and-what-happened-so-far-sns-1679580.html',\n",
              " 'https://kannada.news18.com/news/state/ramanagara-congress-mla-iqbhal-hussain-video-victim-filed-complaint-in-ramanagara-police-station-mrq-1680429.html',\n",
              " 'https://kannada.news18.com/news/state/who-sent-prajwal-revanna-s-car-driver-karthik-to-malaysia-mrq-1680379.html',\n",
              " 'https://kannada.news18.com/news/state/amit-shah-met-neha-hiremath-parents-mrq-1680310.html',\n",
              " 'https://kannada.news18.com/news/national-international/ancestors-rising-stone-boat-is-visible-in-uttara-kannada-many-stories-behind-it-abn-svl-ggb-1676772.html',\n",
              " 'https://kannada.news18.com/news/state/union-minister-amit-shah-slams-congress-government-on-neha-hiremath-case-mrq-1680239.html',\n",
              " 'https://kannada.news18.com/news/state/boyfriend-cut-college-students-hand-for-chatting-with-his-girlfriend-kvd-1680146.html',\n",
              " 'https://kannada.news18.com/news/state/cm-siddaramaiah-letter-to-pm-modi-requesting-him-to-cancel-the-diplomatic-passport-of-prajwal-revanna-mrq-1679974.html',\n",
              " 'https://kannada.news18.com/news/state/prajwal-revanna-asks-7-days-time-to-present-court-over-case-mrq-1679810.html',\n",
              " 'https://kannada.news18.com/news/state/why-suraj-revanna-met-dk-shivakumar-mrq-1679722.html',\n",
              " 'https://kannada.news18.com/news/state/pendrive-case-sit-issued-notice-to-revanna-and-prajwal-to-come-for-enquiry-sns-1679508.html',\n",
              " 'https://kannada.news18.com/news/state/did-veena-kashappanavar-step-away-from-politics-an-emotional-message-on-social-media-sns-1679429.html',\n",
              " 'https://kannada.news18.com/news/state/minister-rb-timmapur-first-reaction-about-mp-prajwal-revanna-pendrive-case-sns-1679364.html',\n",
              " 'https://kannada.news18.com/news/state/congress-mla-raju-kage-makes-shocking-remarks-on-pm-modi-and-threatening-voters-in-kagawad-constituency-sns-1679273.html',\n",
              " 'https://kannada.news18.com/news/state/karnataka-ex-bjp-mla-nehru-olekar-likely-to-quits-party-to-join-congress-party-sns-1679067.html',\n",
              " 'https://kannada.news18.com/news/state/sslc-boy-addicted-to-betting-app-friends-extort-money-police-arrested-4-accused-sns-1678945.html',\n",
              " 'https://kannada.news18.com/news/state/daughter-stabbed-to-death-by-mother-for-not-writing-puc-exam-in-bengaluru-at-banashankari-sns-1678752.html',\n",
              " 'https://kannada.news18.com/news/state/big-twist-in-pendrive-case-shocking-details-on-prajwal-revanna-video-case-sns-1678665.html',\n",
              " 'https://kannada.news18.com/news/state/kumar-bangarappa-criticizes-geetha-shivarajkumar-ach-1678476.html',\n",
              " 'https://kannada.news18.com/news/state/election-officers-register-a-complaint-against-groom-due-to-violation-of-code-of-conduct-lg-1678379.html',\n",
              " 'https://kannada.news18.com/news/state/siddaramaiah-said-that-i-did-not-contact-narendra-modi-when-my-son-died-ach-1678258.html',\n",
              " 'https://kannada.news18.com/news/state/chamarajanagar-mp-v-srinivasa-prasad-funeral-ach-1678129.html',\n",
              " 'https://kannada.news18.com/news/state/prajwal-revanna-pendrive-scandal-case-dcm-dk-shivakumar-slams-against-hd-kumaraswamy-akd-1677963.html']"
            ]
          },
          "metadata": {},
          "execution_count": 17
        }
      ]
    },
    {
      "cell_type": "code",
      "source": [
        "import requests\n",
        "from bs4 import BeautifulSoup\n",
        "from fake_useragent import UserAgent\n",
        "import csv\n",
        "\n",
        "def extract_data_from_url(url):\n",
        "    try:\n",
        "        user_agent = UserAgent()\n",
        "        headers = {'User-Agent': user_agent.random}\n",
        "        response = requests.get(url, headers=headers)\n",
        "        response.raise_for_status()  # Raise an exception for 4xx or 5xx errors\n",
        "        soup = BeautifulSoup(response.content, 'html.parser')\n",
        "\n",
        "        # Title\n",
        "        h1_element = soup.find('h1', class_='nwarthd')\n",
        "        title = h1_element.text.strip() if h1_element else None\n",
        "\n",
        "        # Description\n",
        "        h2_element = soup.find('h2', class_='nwartscnhd')\n",
        "        description = h2_element.text.strip() if h2_element else None\n",
        "\n",
        "        # Find the <div> with class 'nwartcntdtl'\n",
        "        div_nwartcntdtl = soup.find('div', class_='nwartcntdtl')\n",
        "\n",
        "        # Extract text from the <strong> tag within the div\n",
        "        strong_tag_text = div_nwartcntdtl.find('strong').text.strip() if div_nwartcntdtl else None\n",
        "\n",
        "        return title, description, strong_tag_text\n",
        "    except Exception as e:\n",
        "        print(\"An error occurred while extracting data from URL:\", url)\n",
        "        print(\"Error:\", e)\n",
        "        return None, None, None\n",
        "\n",
        "# Extracting links\n",
        "linksets = set()  # Use a set to store unique links\n",
        "\n",
        "for x in range(1, 70):\n",
        "    url = \"https://kannada.news18.com/state/\"\n",
        "    user_agent = UserAgent()\n",
        "    headers = {'User-Agent': user_agent.random}\n",
        "    try:\n",
        "        response = requests.get(url, headers=headers)\n",
        "        response.raise_for_status()  # Raise an exception for 4xx or 5xx errors\n",
        "        soup = BeautifulSoup(response.content, 'html.parser')\n",
        "        li_elements = soup.find_all('li', class_='jsx-bcef60bca6506e85')\n",
        "        # Extract the links from <a> tags within <h2> elements\n",
        "        links = [li.find('a')['href'] for li in li_elements if \"/news/\" in li.find('a')['href']]\n",
        "        # Add links to the set\n",
        "        linksets.update(links)\n",
        "    except Exception as e:\n",
        "        print(\"An error occurred while extracting links from URL:\", url)\n",
        "        print(\"Error:\", e)\n",
        "\n",
        "\n",
        "\n",
        "# Writing data to CSV\n",
        "with open('data.csv', 'w', newline='', encoding='utf-8') as csvfile:\n",
        "    fieldnames = ['Title', 'Description', 'Content']\n",
        "    writer = csv.DictWriter(csvfile, fieldnames=fieldnames)\n",
        "\n",
        "    writer.writeheader()\n",
        "\n",
        "    for link in linklist:\n",
        "        title, description, content = extract_data_from_url(link)\n",
        "        writer.writerow({'Title': title, 'Description': description, 'Content': content})\n",
        "\n",
        "print(\"CSV file created successfully.\")\n"
      ],
      "metadata": {
        "colab": {
          "base_uri": "https://localhost:8080/"
        },
        "id": "HgJvaVTQYZHD",
        "outputId": "34faca5f-aebe-4260-b546-6995be3c9173"
      },
      "execution_count": 20,
      "outputs": [
        {
          "output_type": "stream",
          "name": "stdout",
          "text": [
            "CSV file created successfully.\n"
          ]
        }
      ]
    },
    {
      "cell_type": "code",
      "source": [
        "import pandas as pd\n",
        "data=pd.read_csv(\"/content/data.csv\")\n",
        "data"
      ],
      "metadata": {
        "collapsed": true,
        "id": "QIXWPiP6bFJS"
      },
      "execution_count": null,
      "outputs": []
    },
    {
      "cell_type": "code",
      "source": [
        "import requests\n",
        "from bs4 import BeautifulSoup\n",
        "from fake_useragent import UserAgent\n",
        "import csv\n",
        "\n",
        "linklist = []\n",
        "\n",
        "for page_number in range(1, 40):\n",
        "    url = f\"https://kannada.news18.com/state/page-{page_number}/\"\n",
        "    user_agent = UserAgent()\n",
        "    headers = {'User-Agent': user_agent.random}\n",
        "    response = requests.get(url, headers=headers)\n",
        "    response_content = response.content\n",
        "    soup = BeautifulSoup(response_content, 'html.parser')\n",
        "    li_elements = soup.find_all('li', class_='jsx-bcef60bca6506e85')\n",
        "    # Extract the links from <a> tags within <h2> elements\n",
        "    links = [li.find('a')['href'] for li in li_elements if li.find('a')]\n",
        "    # Append the extracted links to linklist\n",
        "    for link in links:\n",
        "        if \"/news/\" in link:\n",
        "            linklist.append(\"https://kannada.news18.com\" + link)\n",
        "\n",
        "# Writing data to CSV\n",
        "with open('data.csv', 'w', newline='', encoding='utf-8') as csvfile:\n",
        "    fieldnames = ['Title', 'Description', 'Content']\n",
        "    writer = csv.DictWriter(csvfile, fieldnames=fieldnames)\n",
        "\n",
        "    writer.writeheader()\n",
        "\n",
        "    for link in linklist:\n",
        "        try:\n",
        "            user_agent = UserAgent()\n",
        "            headers = {'User-Agent': user_agent.random}\n",
        "            response = requests.get(link, headers=headers)\n",
        "            response.raise_for_status()  # Raise an exception for 4xx or 5xx errors\n",
        "            soup = BeautifulSoup(response.content, 'html.parser')\n",
        "\n",
        "            # Title\n",
        "            h1_element = soup.find('h1', class_='nwarthd')\n",
        "            title = h1_element.text.strip() if h1_element else None\n",
        "\n",
        "            # Description\n",
        "            h2_element = soup.find('h2', class_='nwartscnhd')\n",
        "            description = h2_element.text.strip() if h2_element else None\n",
        "\n",
        "            # Find the <div> with class 'nwartcntdtl'\n",
        "            div_nwartcntdtl = soup.find('div', class_='nwartcntdtl')\n",
        "\n",
        "            # Extract text from the <strong> tag within the div\n",
        "            strong_tag_text = div_nwartcntdtl.find('strong').text.strip() if div_nwartcntdtl else None\n",
        "\n",
        "            writer.writerow({'Title': title, 'Description': description, 'Content': strong_tag_text})\n",
        "        except Exception as e:\n",
        "            print(\"An error occurred while extracting data from URL:\", link)\n",
        "            print(\"Error:\", e)\n",
        "\n",
        "print(\"CSV file created successfully.\")\n"
      ],
      "metadata": {
        "colab": {
          "base_uri": "https://localhost:8080/"
        },
        "id": "dmIBsDtkDY6_",
        "outputId": "3247c3e3-7f5a-4d48-8966-1a7143edc132"
      },
      "execution_count": 23,
      "outputs": [
        {
          "output_type": "stream",
          "name": "stdout",
          "text": [
            "CSV file created successfully.\n"
          ]
        }
      ]
    }
  ]
}