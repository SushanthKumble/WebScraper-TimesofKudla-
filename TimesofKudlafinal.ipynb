{
  "nbformat": 4,
  "nbformat_minor": 0,
  "metadata": {
    "colab": {
      "provenance": [],
      "authorship_tag": "ABX9TyPTlgrjXbkPNhXVi9MaUkeP",
      "include_colab_link": true
    },
    "kernelspec": {
      "name": "python3",
      "display_name": "Python 3"
    },
    "language_info": {
      "name": "python"
    }
  },
  "cells": [
    {
      "cell_type": "markdown",
      "metadata": {
        "id": "view-in-github",
        "colab_type": "text"
      },
      "source": [
        "<a href=\"https://colab.research.google.com/github/SushanthKumble/WebScraper-TimesofKudla-/blob/main/TimesofKudlafinal.ipynb\" target=\"_parent\"><img src=\"https://colab.research.google.com/assets/colab-badge.svg\" alt=\"Open In Colab\"/></a>"
      ]
    },
    {
      "cell_type": "code",
      "execution_count": 1,
      "metadata": {
        "colab": {
          "base_uri": "https://localhost:8080/"
        },
        "id": "bpFviY3iog62",
        "outputId": "78ff7f7e-8dbf-4b39-db05-40b28be68bce"
      },
      "outputs": [
        {
          "output_type": "stream",
          "name": "stdout",
          "text": [
            "Collecting fake_useragent\n",
            "  Downloading fake_useragent-1.4.0-py3-none-any.whl (15 kB)\n",
            "Installing collected packages: fake_useragent\n",
            "Successfully installed fake_useragent-1.4.0\n"
          ]
        }
      ],
      "source": [
        "!pip install fake_useragent"
      ]
    },
    {
      "cell_type": "code",
      "source": [
        "import requests\n",
        "from urllib.parse import unquote\n",
        "from bs4 import BeautifulSoup\n",
        "from fake_useragent import UserAgent"
      ],
      "metadata": {
        "id": "LnP8ANPSpXKW"
      },
      "execution_count": 2,
      "outputs": []
    },
    {
      "cell_type": "code",
      "source": [
        "from urllib.parse import unquote\n",
        "\n",
        "url = \"https://www.timesofkudla.com/ARDC.in/category/%E0%B2%9F%E0%B3%88%E0%B2%AE%E0%B3%8D%E0%B2%B8%E0%B3%8D-%E0%B2%86%E0%B2%AB%E0%B3%8D-%E0%B2%95%E0%B3%81%E0%B2%A1%E0%B3%8D%E0%B2%B2-%E0%B2%A8%E0%B3%8D%E0%B2%AF%E0%B3%82%E0%B2%B8%E0%B3%8D-times-of-kudla-n/%E0%B2%AB%E0%B3%8D%E0%B2%B2%E0%B3%8D%E0%B2%AF%E0%B2%BE%E0%B2%B6%E0%B3%8D-%E0%B2%A8%E0%B3%8D%E0%B2%AF%E0%B3%82%E0%B2%B8%E0%B3%8D-%E0%B2%B0%E0%B2%AA%E0%B2%95%E0%B3%8D%E0%B2%95-%E0%B2%B8%E0%B3%81/page/2/\"\n",
        "\n",
        "decoded_url = unquote(url)\n",
        "print(decoded_url)\n"
      ],
      "metadata": {
        "colab": {
          "base_uri": "https://localhost:8080/"
        },
        "id": "3VnK6rykpa8o",
        "outputId": "f18ff570-5c63-4e50-8e14-4be752fce4a2"
      },
      "execution_count": 53,
      "outputs": [
        {
          "output_type": "stream",
          "name": "stdout",
          "text": [
            "https://www.timesofkudla.com/ARDC.in/category/ಟೈಮ್ಸ್-ಆಫ್-ಕುಡ್ಲ-ನ್ಯೂಸ್-times-of-kudla-n/ಫ್ಲ್ಯಾಶ್-ನ್ಯೂಸ್-ರಪಕ್ಕ-ಸು/page/2/\n"
          ]
        }
      ]
    },
    {
      "cell_type": "code",
      "source": [
        "# print(\"User Agent:\", headers['User-Agent'])\n",
        "# print(\"Response Status Code:\", response.status_code)"
      ],
      "metadata": {
        "colab": {
          "base_uri": "https://localhost:8080/"
        },
        "id": "WVzS9tQrpimL",
        "outputId": "ed25da4a-9d25-46e1-b0b2-dd38706dbc4c"
      },
      "execution_count": 6,
      "outputs": [
        {
          "output_type": "stream",
          "name": "stdout",
          "text": [
            "User Agent: Mozilla/5.0 (Windows NT 10.0; Win64; x64) AppleWebKit/537.36 (KHTML, like Gecko) Chrome/117.0.0.0 Safari/537.36 Edg/117.0.2045.36\n",
            "Response Status Code: 200\n"
          ]
        }
      ]
    },
    {
      "cell_type": "code",
      "source": [
        "linklist=[]\n",
        "for x in range(1,2):\n",
        "  url = f\"https://www.timesofkudla.com/ARDC.in/category/ಟೈಮ್ಸ್-ಆಫ್-ಕುಡ್ಲ-ನ್ಯೂಸ್-times-of-kudla-n/ಫ್ಲ್ಯಾಶ್-ನ್ಯೂಸ್-ರಪಕ್ಕ-ಸು/page/{x}/\"\n",
        "  user_agent = UserAgent()\n",
        "  headers = {'User-Agent': user_agent.random}\n",
        "  response = requests.get(url, headers=headers)\n",
        "  response_content = response.content\n",
        "  soup = BeautifulSoup(response_content, 'html.parser')\n",
        "  h2_elements = soup.find_all('h2', class_='card-title entry-title')\n",
        "  # Extract the links from <a> tags within <h2> elements\n",
        "  links = [h2.find('a')['href'] for h2 in h2_elements]\n",
        "  # Print the extracted links\n",
        "  for link in links:\n",
        "      linklist.append(link)"
      ],
      "metadata": {
        "id": "RlroXVcvrWpY"
      },
      "execution_count": 54,
      "outputs": []
    },
    {
      "cell_type": "code",
      "source": [
        "linklist"
      ],
      "metadata": {
        "colab": {
          "base_uri": "https://localhost:8080/"
        },
        "id": "ObBKc1jA1KSD",
        "outputId": "0e422c53-6fef-4cb5-f78e-c9d3a07a4f84"
      },
      "execution_count": 56,
      "outputs": [
        {
          "output_type": "execute_result",
          "data": {
            "text/plain": [
              "['https://www.timesofkudla.com/ARDC.in/2022/Month/10/29300/No.1TuluNews',\n",
              " 'https://www.timesofkudla.com/ARDC.in/2022/Month/06/22026/No.1TuluNews',\n",
              " 'https://www.timesofkudla.com/ARDC.in/2022/Month/06/21958/No.1TuluNews',\n",
              " 'https://www.timesofkudla.com/ARDC.in/2022/Month/04/19994/No.1TuluNews',\n",
              " 'https://www.timesofkudla.com/ARDC.in/2022/Month/03/18576/No.1TuluNews',\n",
              " 'https://www.timesofkudla.com/ARDC.in/2022/Month/03/18485/No.1TuluNews',\n",
              " 'https://www.timesofkudla.com/ARDC.in/2022/Month/03/18342/No.1TuluNews',\n",
              " 'https://www.timesofkudla.com/ARDC.in/2022/Month/03/18273/No.1TuluNews',\n",
              " 'https://www.timesofkudla.com/ARDC.in/2022/Month/03/18191/No.1TuluNews',\n",
              " 'https://www.timesofkudla.com/ARDC.in/2022/Month/02/17959/No.1TuluNews']"
            ]
          },
          "metadata": {},
          "execution_count": 56
        }
      ]
    },
    {
      "cell_type": "code",
      "source": [
        "summary_list=[]\n",
        "for i in linklist:\n",
        "  user_agent = UserAgent()\n",
        "  headers = {'User-Agent': user_agent.random}\n",
        "  response = requests.get(i, headers=headers)\n",
        "  response_content = response.content\n",
        "  soup1 = BeautifulSoup(response_content, 'html.parser')\n",
        "  div_contents=soup1.find('div',class_=\"single-post-wrap entry-content\")\n",
        "  # Extract text within <p> tags excluding images\n",
        "  text_without_images = \"\"\n",
        "  for p_tag in div_contents.find_all('p'):\n",
        "      # Check if the <p> tag contains an image\n",
        "      if not p_tag.find('img'):\n",
        "          text_without_images += p_tag.get_text(strip=True) + \"\\n\"\n",
        "\n",
        "  # Print the result\n",
        "  summary_list.append(text_without_images)\n",
        ""
      ],
      "metadata": {
        "id": "tCybApinwptb"
      },
      "execution_count": 57,
      "outputs": []
    },
    {
      "cell_type": "code",
      "source": [
        "summary_list"
      ],
      "metadata": {
        "colab": {
          "base_uri": "https://localhost:8080/"
        },
        "id": "Zl9bz-EF1VuO",
        "outputId": "1307891c-871d-4b2e-b655-ab1ca770d08d"
      },
      "execution_count": 58,
      "outputs": [
        {
          "output_type": "execute_result",
          "data": {
            "text/plain": [
              "['ರಿಷಬ್ ಶೆಟ್ಟಿ ನಿರ್ದೇಶನ ಬೊಕ್ಕ ನಟನೆ ಮಲ್ತಿನ ಕಾಂತಾರ ಪಿಚ್ಚರ್ ಹಿಂದಿ ಬಾಕ್ಸ್ ಆಫೀಸ್ ಡ್ ಕಾಲಿ 3 ದಿನಟ್ಟ್ 8 ಕೋಟಿ ಕಲೆಕ್ಷನ್ ಆತ್ಂಡ್.\\n\\nಈ ಇಂಚಿಪ್ಪಗ್ ವಿಶ್ವಡ್ ಬಾಕ್ಸ್ ಆಫೀಸ್\\u200c ಡ್ 100 ಕೋಟಿ ರೂಪಾಯಿ ಕಲೆಕ್ಷನ್ ಆದಿತ್ತ್oಡ್. ಚಿತ್ರಗ್ ಕಥೆ, ಚಿತ್ರಕಥೆ, ನಿರ್ದೇಶನ ಬೊಕ್ಕ ನಟನೆನ್ ರಿಷಬ್ ಶೆಟ್ಟಿ ಮಲ್ತ್ ದೆರ್.\\n',\n",
              " 'ದೇಶ ಪರ್ಯಟನೆಗ್ ಪಿದಾಡಿಯೆರ್ ಕುಡ್ಲದ ಜವಣ್ಯೆರ್ : ” NoMad People ” ಕೂಟದ ಆಲ್ ಇಂಡಿಯಾ ರೈಡ್\\nನಾಲ್ ಗಾಲಿ ದೇಹನ್ ದುಂಬು ಕೊನೊಂಡ, ರಡ್ಡ್ ಗಾಲಿ ಆತ್ಮನ್ ದುಂಬು ಕೊನೊಪುಂಡು ಪನ್ಪಿ ಪಾತೆರ ಉಂಡು. ಮೂಲೊಂಜಿ ಕುಡ್ಲದ ಬೆಚ್ಚ ನೆತ್ತೆರ್ದ ಲತ್ತ್ ಜವಣ್ಯೆರ್ನ ಕೂಟ ಒಂಜಿ ದೇಶ ಪರ್ಯಟನೆಗ್ ಪೋದು ಅಲ್ಪದ ಜನಕ್ಲೆನ ಆಚಾರ ಇಚಾರ, ಸಂಸ್ಕೃತಿ ಸಂಪ್ರದಾಯ, ತೆನಸ್ ವನಸ್ ದ ಬಗ್ಗೆ ತೆರಿಯೊನೆರೆ ಪೋತಿನ ಕುಡ್ಲದ ಜನಕ್ಲೆಗ್ ಪೆರ್ಮೆ ಪಂಡ ತಪ್ಪಾವಂದ್.\\nಒಂಜತ್ತ್ ರಡ್ಡತ್ತ್ ಬರೋಬ್ಬರಿ 13 ರಾಜ್ಯ 11 ಸಾರರ್ದ್ ಲಾ ಜಾಸ್ತಿ ಕಿಮೀ ಬೊಕ್ಕ ಒಂಜರೆ ತಿಂಗೊಲ್ದ ಪಯಣ ಮುಖೇನ ‘ಆಲ್ ಇಂಡಿಯಾ ರೈಡ್\\u200c ಗ್ ‘ ಕುಡ್ಲದ ಜವಣ್ಯೆರ್ ತನ್ನ ತನ್ನ ಬೈಕ್\\u200c ಏರೊಂದು ಪಿದಾಡ್ದೆರ್ .\\nದೇಶೊದ ಬೇತೆ ಬೇತೆ ರಾಜ್ಯೊದ ಸಂಸ್ಕೃತಿ, ಆಚಾರ-ವಿಚಾರದ ಪೊಲಬು ಮಲ್ತೊಂದು ಅವೆನ್“ನೋ ಮ್ಯಾಡ್ ಪೀಪಲ್ “ಪನ್ಪಿನ ಯೂಟ್ಯೂಬ್ ಚಾನೆಲ್ ದ ಮುಖೇನ ಜನಕ್ಲೆಗ್ ಪಟ್ಟೊಂದು ಉಲ್ಲೆರ್.\\nಅಂದ್ ಈ ಜವಣ್ಯೆರ್ ಮೂಲತಃ ಕುಡ್ಲದಕುಲು.ಶಿಶಿರ್ ಶೆಟ್ಟಿ, ಮೋಕ್ಷಿತ್ ಪೂಜಾರಿ, ಆದಿತ್ಯ ನಾಯಕ್ ಧನುಷ್ ಶೆಟ್ಟಿ, ಪವನ್ ಶೆಟ್ಟಿ, ಗಗನ್ ದೀಪ್ ಗೌಡ, ದೀಕ್ಷಿತ್ ಕುಮಾರ್ಪುದರ್ ದ ಜವಣ್ಯೆರ್ನ ಕೂಟ, ಒಟ್ಟುಗು ಬೆನ್ನಿ ಬೆನೊಂದು ತನ್ನ ಕಸುಬುದೊಟ್ಟುಗು ದೂರದ ಊರುಗು ಬೈಕ್\\u200cಡ್ ಪೋಪಿನಿ ಪಂಡ ಬಾರಿ ಪ್ರೀತಿ. ಇತ್ತೆ ದೇಶದ 13 ರಾಜ್ಯ ಸುತ್ತುನ ಕನ ಮೇ 24 ಕ್ಕ್ ನಂಬಿನಕ್ಲೆಗ್ ಇಂಬು ಕೊರ್ಪಿನ ಕೊರಗಜ್ಜನ ಸಾನಿಧ್ಯೊಡು ಸುರು ಆತುಂಡು.\\nಈ ಜವಣ್ಯೆರ್ ತನ್ನ ಬೈಕ್ ಡ್ ಪ್ರಯಾಣ ಸುರು ಮಲ್ದೆರ್ . ಬೈಕ್\\u200cದ ನಾಲ್ ಕಡೆಟ್ ದಿನ ನಿತ್ಯ ಗಲಸುನ ವಸ್ತು ಅಂಚನೆ ಕ್ಯಾಮರಾ ಪಾಡೊಂದು ಪ್ರತಿದಿನ ಪೋಪುನಂಚಿನ ರಾಜ್ಯೊದ ಸಂಸ್ಕೃತಿ, ತೆನಸ್ ದ ಪದ್ದತಿ, ಆಚಾರದ ಬಗ್ಗೆ ಮಾಹಿತಿನ್ ಪಡೆಯೊಂದು ತನ್ನ ಯೌಟ್ಯೂಬ್ ಚಾನೆಲ್ ಡ್ ಜನಕ್ಲೆಗ್ ಪಟ್ಟುನ ಕಜ್ಜ ಮಲ್ತೊಂದು ಉಲ್ಲೆರ್.ಈ ರೈಡ್ ಗಾದ್ ಈ ಜವಣ್ಯೆರ್ ತನ್ನ ಬೈಕ್\\u200cನ್ ವಿಶೇಷ ರೀತಿಡ್ ತಯಾರ್ ಮಲ್ದೆರ್ . ಬೈಕ್\\u200cಡ್ ಟೂಲ್\\u200cಕಿಟ್\\u200cರ್ದ್ ಪತ್ತ್ ದ್ ಅಂಗಿ ಕುಂಟು, ತೆನಸ್ ಇಂಚ ಮಾತಲ ಬಾಕ್ಸ್\\u200c ಮಾದರಿಡ್ ಬೈಕ್\\u200c ನ್ ಮೋಡಿಫೈ ಮಲ್ದೆರ್ . ನೆತ್ತ ಒಟ್ಟುಗು ಹೆಲ್ಮೆಟ್\\u200cಡ್ ವಿಶೇಷವಾಯಿನ ಕ್ಯಾಮೆರಾ, ಮೈಕ್ರೋಫೋನ್\\u200c ದ ಮುಖೇನ ನಿರಂತರ ಪೋವೊಂದು ಉಪ್ಪುನ ಬೈಕ್\\u200cರ್ದ್ ಪಾತೆರ ಸುರು ಮಲ್ಪುವೆರ್.ಇಂಚ ನನಲ 1 ತಿಂಗೊಲು ಬೇತೆ ಬೇತೆ ಸಂಸ್ಕೃತಿ ,ಸಂಪ್ರದಾಯದ ಪೊಲಬು ಪಟ್ಟೆರೆ ಈ ಜವಣ್ಯೆರ್ ತಯಾರ್ ಆದ್ ಉಲ್ಲೆರ್.\\n“ಕನಸೆಂಬ ಕುದುರೆಯನ್ನೇರಿ ನಾ ಹೊರಟಿರುವೆ ” ಪನ್ಪಿನ ಪಾತೆರದಲಕ ತನ್ನ ಕಸುಬುನು ಬುರ್ದು ಬೇತೆ ಜಾಗೆದ ಅನುಭವ ಪಡೆಯೆರೆ ಪಿದಾಡ್ದೆರ್ ಈ ಜವಣ್ಯೆರ್. ಜಗತ್ತ್ ದ ಮೂಜನೆ ಕಣ್ಣ್ ಕೆಮರಾ, ಕೆಮರಾ ಪತ್ತೆರೆ ಮಾತೆರೆಗ್ಲಾ ಬರ್ಪುಂಡು ಆಂಡ ಅವೆನ್ ಪತ್ತ್ ದ್ ಪೊರ್ಲುದ ಪೋಟೋ ಕ್ಲಿಕ್ ಮಲ್ಪರೆ ಹವ್ಯಾಸಿ ಪೋಟೋಗ್ರಾಪರ್ ಗಾತೆ ಸಾಧ್ಯ . ಈ ಹವ್ಯಾಸ ಮಾತೆರೆಗ್ಲಾ ಬರ್ಪುಜಿ. ಪೊರ್ತು ಸಂದರ್ಭ ಸನ್ನಿವೇಶದ ಶಾಶ್ವತ ನೆಂಪುನು ನೆಂಪು ಮಲ್ಪುನಲ್ಪ ಇಂಚಿನ ಜವಣ್ಯೆರ್ನ ಪಾತ್ರ ಬಾರಿ ಮುಖ್ಯ. ಪೊಲಬು ದಾoತಿ ಜಾಗೆದ ಪೊಲಬುನು ಜನಕ್ಲೆನ ಕಾರ ಮುದೆಲ್ಗ್ ಮುಟ್ಟಾವುನ ಬೇಲೆ ಮಲ್ತೊಂದು ಉಪ್ಪುನ” No Mad People “ಕೂಟದ ಜವಣ್ಯೆರ್ನ ಈ ಕಜ್ಜ ಲೊಕೊರ್ಮೆ ಪಸರಡ್ ಪನ್ಪಿನವು ಟೈಮ್ಸ್ ಆಫ್ ಕುಡ್ಲ ಪತ್ರಿಕೆದ ಆಶಯ.\\nಇತ್ತೆದ ಯುವ ಸಮುದಾಯ ಎಲ್ಯ ಎಲ್ಯ ಕಾರಣೊಗು ಜೀವ ದೆತ್ತೊನುನ ನಿರ್ಧಾರ ಮಲ್ಪುವೆರ್ ಉಂದೆನ್ ತಪ್ಪಾಯೆರೆ ಜವಣ್ಯೆರ್ ಇಲ್ಲ್ ಬುಡ್ದು ಪಿದಾಯಿ ಬಲೆ , ದೇಶ ಸುತ್ತುದು ಹಳ್ಳಿ ಹಳ್ಳಿಗ್ ಪೋದು ಜನಕ್ಲೆನ ಒಟ್ಟುಗು ಪಾತೆರ್ಲೆ .ಪ್ರಕೃತಿದ ರುಚಿ ಪಡೆದ್ ಮನಸ್ ಬದಲ್ ಮಲ್ಪೊಲಿ ಅಲ್ಪದ ಆಚಾರ ಇಚಾರನ್ ನಾಲ್ ಜನಕ್ ಪಟ್ಟುನ ಕಿನ್ಯ ಪ್ರಯತ್ನ ಈ ಕೂಟದವು ಪಂದ್ ಕೂಟದ ಸದಸ್ಯೆರಾಯಿನ ಶಿಶಿರ್ ಶೆಟ್ಟಿ ಪನ್ಪೆರ್.\\nಬರವು : ಶ್ರೀನಿಧಿ ಶೆಟ್ಟಿ\\n',\n",
              " 'ಕೇರಳ ರಾಜ್ಯದ ಜೋಕ್ಲೆಗ್ ಕುಡೊಂಜಿ ವೈರಸ್ ಸೋಂಕುಪೋಡ್ಯುನ ಅಗತ್ಯ ಇಜ್ಜಿ : ಆರೋಗ್ಯ ಸಚಿವ ವೀಣಾ ಜಾರ್ಜ್\\nಕೇರಳ : ಕೇರಳ ರಾಜ್ಯದ ಪ್ರಾಥಮಿಕ ಶಾಲಾ ರಡ್ಡ್ ಜೋಕ್ಲೆಗ್ ನೋರೋ ವೈರಸ್ ಸೋಂಕು ತೊಜೀದ್ ಬೈದುಂಡು .\\nಜನಕುಲು ಪೋಡ್ಯುನ ಅಗತ್ಯ ಇಜ್ಜಿ ಆರೋಗ್ಯ ಇಲಾಖೆ ಸೋಂಕು ತಡೆಯೆರೆ ಕಠಿಣ ಕ್ರಮ ದೆತೊನೊಂದು ಉಲ್ಲೆರ್ ಅಂಚನೆ ಸೋಂಕು ಬತ್ತಿನ ಜೋಕ್ಲೆನ ಆರೋಗ್ಯ ಸರಿ ಉಂಡು ಪಂದ್ ರಾಜ್ಯದ ಆರೋಗ್ಯ ಸಚಿವೆ ವೀಣಾ ಜಾರ್ಜ್ ಪಂಡೆರ್ .\\nಈ ಸೋಂಕು ಹಾಳ್ ಆಯಿನ ನೀರ್ ಬೊಕ್ಕ ತೆನಸ್ ದ ಮುಖೇನ ಬರ್ಪಿನ ಸಾಧ್ಯತೆ ಉಂಡು ಆಹಾರದ ಮೂಲಕ ಪಂದ್ ಪಂಡೆರ್.\\n\\nPeople in Kerala need not worry of the new virus– Health minister Veena George.\\nKerala: Two children in a primary school in Kerala were suspected to have been infected with the Nora virus which has caused worry to people in Kerala.\\nThe health minister of Kerala ,Veena George has assured the people that there is no cause for alarm as the health department has taken stringent action to prevent the spread of the virus.The health of the two children affected; is also closely monitored she said.\\nThe virus is said to spread through contimnated food and water.\\n',\n",
              " 'ಪ್ಲಾಸ್ಟಿಕ್ ಸರ್ಜರಿ ಪನ್ಪಿನ ಪುದರ್ ನಂಕ್ ಮಾತಾ ತೆರಿನವು . ಆಂಡ ಸರ್ಜರಿ ಮಲ್ಪುನಗ ಪ್ಲಾಸ್ಟಿಕ್ ಗಲಸುಜೆರ್ ಆಂಡಲಾ ದಾಯೆ ಇಂಚ ಪನ್ಪೆರ್ ಪಂದ್ ಏಪ ಆಂಡಲಾ ಯೋಚನೆ ಮಲ್ದರಾ? ಈ ಬಗ್ಗೆ ಮಾಹಿತಿ ಮೂಲು ಉಂಡು ಉಂದು ಸ್ತನದ ಇಂಪ್ಲಾಂಟ್\\u200cದೊಟ್ಟುಗು ಸಂಪರ್ಕ ಪಡೆತುಂಡು . ‘ಪ್ಲಾಸ್ಟಿಕ್ ಸರ್ಜರಿ’ ಪನ್ಪಿನ ಪದನ್ ಸುರುಟು 1837 ಟ್ಟ್ ವೈದ್ಯಕೀಯ ಜರ್ನಲ್ ದಿ ಲ್ಯಾನ್ಸೆಟ್\\u200cಡ್ ಗಲಸಿಯೆರ್ . ಈ ಸರ್ಜರಿಡ್ ಪ್ಲಾಸ್ಟಿಕ್ ಪನ್ಪಿನ ಪದನ್ ಸೇರಯೆರೆ ಕಾರಣ ದಾದ ಪಂಡ ಮಿರೆ ತ ಇಂಪ್ಲಾಂಟ್\\u200cಲೆನ್ ಸಿಲಿಕೋನ್ ಶೆಲ್\\u200cರ್ದ್ ತಯಾರ್ ಮಲ್ಪುವೆರ್ . ಉಂದು ಸಿಲಿಕೋನ್ ಜೆಲ್\\u200cರ್ದ್ ಉಪ್ಪುಂಡು ಪಂದ್ ಡಾ. ಬ್ರಿಯಾನ್ ಡೋರ್ನರ್ ಪಂಡೆರ್ . ಆಶ್ಚರ್ಯಕರವಾದ್ , ಸಿಲಿಕೋನ್ ಲಾ ಒಂಜಿ ರೀತಿದ ಪ್ಲಾಸ್ಟಿಕ್ ಆದ್ ಉಂಡು . ರಬ್ಬರ್ ಬೊಕ್ಕ ಪ್ಲಾಸ್ಟಿಕ್ ಮಿಶ್ರಣರ್ದ್ ಅವೆನ್ ತಯಾರ್ ಮಲ್ಪುವೆರ್.\\nಪ್ಲಾಸ್ಟಿಕ್ ಪನ್ಪಿನವು ಲ್ಯಾಟಿನ್ ಪದ. ಪ್ಲಾಸ್ಟಿಕ್ ಕಜವುರ್ದು ಬೈದುಂಡು ಪಂದ್ ವರದಿ ಪನ್ಪುಂಡು . ಓವೆನ್ ಆಂಡಲಾ ಸರಿ ಆಪಿಲಕ ಗಾತ್ರ ಬದಲ್ ಮಲ್ಪುನು ಪಂಡ ಪ್ಲಾಸ್ಟಿಕ್ ಪಂದ್ ಅರ್ಥ . ಬೇತೆ ಬೇತೆ ರೂಪೋಡು ಮಲ್ಪೊಲಿ . 17 ನೇ ಶತಮಾನಡ್ , ಈ ಪದನ್ ಜಾಸ್ತಿ ಗಲಸೆರೆ ಸುರು ಮಲ್ತೆರ್.\\nಈ ರೀತಿಯಾದ್ ನರಮಾನಿ ಜೀವದ ಒವ್ವೆ ಭಾಗಗ್ ಶಸ್ತ್ರಚಿಕಿತ್ಸೆರ್ದ್ ಆಪುಂಡು , ಅಂಚಾದ್ ಅವೆನ್ ಪ್ಲಾಸ್ಟಿಕ್ ಸರ್ಜರಿ ಪಂದ್ ಪನ್ಪೆರ್ . ಪ್ರಸ್ತುತ ಜೀವಗ್ ಎಡ್ಡೆ ಬೊಕ್ಕ ಸರಿಯಾಯಿನ ಆಕಾರನ್ ಕೊರಿಯೆರೆ ಪ್ಲಾಸ್ಟಿಕ್ ಸರ್ಜರಿ ಮಲ್ಪುನಕ್ಲೆನ ಸಂಖ್ಯೆ ಲೋಕಡ್ ಜಾಸ್ತಿ ಉಂಡು .\\nHow Plastic surgery got its name:\\nPlastic is a Latin word.It has a connection to breast implants.The term plastic surgery was first used in a medical journal ‘ The Lancet ‘ in the year 1837.The breast implants were made using silicone shells which is got from silicone jell.Silicone jell is a type of plastic got from mixing rubber and plastic.Plastic surgery is done to recharge a part of a human body that has been damaged or to beautify or to give a right structure to some part of the body\\nPost Views:138Share this:WhatsAppFacebookTwitterPrintLinkedInRedditTumblrPinterestTelegramLike this:LikeLoading...\\n',\n",
              " 'ಹೈದರಾಬಾದ್\\u200c: ‘ಭಾರತೀಯ ಸೇನೆಯ ಯೋಧೇರೆರ್ದ್ ಹೈದರಾಬಾದ್\\u200c ಪ್ರಾಂತ್ಯದ ಜನಕ್ಲೆಗ್ ವಿನಾಕಾರಣ ಕಿರಿಕಿರಿ ಆವೊಂದು ಉಂಡು . ಪರಿಸ್ಥಿತಿ ಇಂಚನೇ ಆಂಡ , ಸರ್ಕಾರರ್ದ್ ಸೇನಾ ಪ್ರಾಂತ್ಯಗ್ ಕೊರೊಂದು ಉಪ್ಪುನ ವಿದ್ಯುತ್\\u200c ಬೊಕ್ಕ ನೀರ್ದ ಸಂಪರ್ಕನ್ ಉಂತಾವೊಡಾಪುಂಡು ಪಂದ್ ದಂಡುಪ್ರದೇಶಡ್ ಉಪ್ಪುನ ಭಾರತೀಯ ಸೇನಾ ವಲಯಗ್ ತೆಲಂಗಾಣದ ಮಾಹಿತಿ ತಂತ್ರಜ್ಞಾನದ ಸಚಿವ ಕೆ.ಟಿ. ರಾಮರಾವ್\\u200c (ಕೆಟಿಆರ್\\u200c) ಖಡಕ್\\u200c ಎಚ್ಚರಿಕೆ ಕೊರ್ತೆರ್.\\nತೆಲಂಗಾಣ ವಿಧಾನಸಭೆಟ್ ಪಾತೆರಿನ ಆರ್, ಹೈದರಾಬಾದ್\\u200c ಹೊರವಲಯಡ್ ಉಪ್ಪುನ ಸೇನಾ ದಂಡುಪ್ರದೇಶದ ಸಿಬ್ಬಂದಿರ್ದ್ ಜನಕ್ಲೆಗ್ ಉಪದ್ರ ಆವೊಂದು ಉಂಡು ಪಂದ್ ಪಂಡೆರ್.\\n',\n",
              " 'ಕರ್ನಾಟಕ : ಹಿಜಾಬ್ ವಿಚಾರಡ್ ಕರ್ನಾಟಕ ಹೈಕೋರ್ಟ್ ಮಹತ್ವವಾಯಿನ ತೀರ್ಪು ಕೊರ್ತುಂಡು ಶೈಕ್ಷಣಿಕ ಸಂಸ್ಥೆದ ಜಾಗೆಡ್ ಒವ್ವೆ ರೀತಿದ ಧಾರ್ಮಿಕ ಆಚರಣೆಗ್ ಅವಕಾಶ ಇಜ್ಜಿ ಪಂದ್ ಮುಖ್ಯ ನ್ಯಾಯಮೂರ್ತಿ ಎ.ಜಿ ನಾವದಗಿ ಈ ತೀರ್ಪು ಕೊರಿಯೆರ್ .\\nಸರ್ಕಾರ ಕೊರಿನ ಸಮವಸ್ತ್ರ ಪಾಲನೆ ಮಲ್ಪುನ ಕಡ್ಡಾಯ, ಐಕ್ ಪ್ರಶ್ನೆ ಮಲ್ಪರೆ ಇಜ್ಜಿ . ಸರ್ಕಾರದ ಆದೇಶ ಕಡ್ಡಾಯ ಪಂದ್ ಪಂಡೆರ್.\\nಶಿಕ್ಷಣ ಸಂಸ್ಥೆಡ್ ಹಿಜಾಬ್ ನಿರ್ಬಂಧ ಮಲ್ತಿನ ಕ್ರಮ ಬೊಕ್ಕ ಈ ಸಂಬಂಧ ರಾಜ್ಯ ಸರ್ಕಾರ ಕೊರಿನ ಆದೇಶ ಪ್ರಶ್ನೆ ಮಲ್ತ್ ಕೊರಿನ ಅರ್ಜಿದ ವಿಚಾರಣೆ ಮುಗಿತಿನ ಮುಖ್ಯ ನ್ಯಾಯಮೂರ್ತಿ ರಿತುರಾಜ್ ಅವಸ್ಥಿ, ನ್ಯಾ. ಕೃಷ್ಣ ದೀಕ್ಷಿತ್, ಅಂಚನೆ ನ್ಯಾ. ಖಾಜಿ ಜೈಬುನ್ನಿಸಾ ಇತ್ತಿನ ತ್ರಿಸದಸ್ಯ ಪೀಠ ಇನಿ ತೀರ್ಪು ಕೊರ್ತುಂಡು.\\n',\n",
              " 'ಲಖನೌ: ಐನ್ ರಾಜ್ಯೊದ ವಿಧಾನಸಭೆ ಚುನಾವಣೆ ವೋಟುದ ಲೆಕ್ಕ ಕಡೆತ ಹಂತಡ್ ಉಂಡು ಉತ್ತರ ಪ್ರದೇಶಡ್ ಬಿಜೆಪಿ ಬಹುಮತ ಪಡೆಯೊಂದು ಉಂಡು . ಅಂಚನೆ ಮುಲ್ಪ ಬಿಜೆಪಿ 37 ವರ್ಷದ ದಾಖಲೆ ಬರೆತುಂಡು , ಸತತ 2ನೇ ಸಲ ‘ಯೋಗಿ ಸರ್ಕಾರ’ ರಚನೆ ಆವೊಂದು ಉಂಡು .\\nಸಿಎಂ ಯೋಗಿ ಆದಿತ್ಯಾನಾಥ್ ನೇತೃತ್ವದ ಬಿಜೆಪಿ ಸತತ 2ನೇ ಸಲ ಅಧಿಕಾರಿದ ಚುಕ್ಕಾಣಿ ಪತ್ತುನಾ ಗಟ್ಟಿ ಆತುಂಡು . ಉತ್ತರ ಪ್ರದೇಶದ ಒಟ್ಟು 403 ವಿಧಾನಸಭಾ ಕ್ಷೇತ್ರದ ಪೈಕಿ ಅರ್ಧರ್ದ್ ಜಾಸ್ತಿ ಪಂಡ 271 ತಾನೊಡು ಯೋಗಿ ಆದಿತ್ಯಾನಾಥ್ ನೇತೃತ್ವದ ಬಿಜೆಪಿ ದುಂಬು ಪೋಪಿನ ಮುಖೇನ ಕುಡ ಅಧಿಕಾರಗ್ ಬರಿಯೆರೆ ತಯಾರ್ ಆದ್ ಉಂಡು.\\n',\n",
              " 'ನವದೆಹಲಿ: ಕೋವಿಡ್ 19 ಸೀಕ್ ದ ನೆಲೆಟ್ಟ್ ಅಂತಾರಾಷ್ಟ್ರೀಯ ವಿಮಾನ ಹಾರಾಟದ ಮಿತ್ತ್ ಪಾರ್ದ್ ಇತ್ತಿನ ನಿರ್ಬಂಧನ್ ಕೇಂದ್ರ ಸರ್ಕಾರ ದೈದುಂಡು , ಮಾರ್ಚ್ 27ರ್ದ್ ಅಂತಾರಾಷ್ಟ್ರೀಯ ವಿಮಾನ ಸಂಚಾರ ಕುಡ ಸುರು ಆಯೆರೆ ಉಂಡು .\\nಕೋವಿಡ್ ಸೋಂಕು ಇತ್ತಿನೆರ್ದಾವರ ಕರಿನ ರಡ್ಡ್ ವರ್ಷರ್ದ್ ಬೊಕ್ಕ ಮಾ.27ರ್ದ್ ಪರ ವೂರುಗು ವಿಮಾನ ಸುರು ಆಯೆರೆ ಉಂಡು .\\n',\n",
              " 'ಉಕ್ರೇನ್ : ಉಕ್ರೇನ್ದ ಮಿತ್ತ್ ಯುದ್ಧ ಘೋಷಣೆ ಮಲ್ತ್ ಭಾಗಶಃ ಕೈವಶಮಲ್ತಿನ ರಷ್ಯಾ ಶನಿವಾರ ತಾತ್ಕಾಲಿಕ ಯುದ್ಧ ವಿರಾಮ ಘೋಷಣೆ ಮಲ್ದೆರ್ . ಯುದ್ಧ ಘೋಷಣೆ ಮಲ್ತ್ 11 ದಿನೊರ್ದು ಬೊಕ್ಕ ರಷ್ಯಾ ಈ ನಿರ್ಧಾರೊನು ಇನಿ ಕಾಂಡೆ 6 ಗಂಟೆಗ್ ಘೋಷಣೆ ಮಲ್ದುಂಡು,ಜನಕ್ಲೆನ್ ಅಲ್ಪರ್ದ್ ಪೋಪಿಲಕ ಮಲ್ಪರೆ ಅನುಕೂಲ ಆಪಿಲಕ ಮಾನವೀಯ ನೆಲೆಟ್ಟ್ ಈ ನಿರ್ಧಾರ ದೆತೊoದ ಪಂದ್ ರಷ್ಯಾ ಪನ್ತುಂಡು .\\nಯುದ್ಧದ 10 ನೇ ದಿನ ಆಯಿನ ಇನಿ ಕಾಂಡೆ 10 ಗಂಟೆರ್ದ್ ಕದನ ವಿರಾಮಗ್ ರಷ್ಯಾ ಕರೆ ಕೊರ್ತುಂಡು .\\n',\n",
              " 'ಹೈದರಾಬಾದ್: ತೆಲಂಗಾಣದ ನಲ್ಗೊಂಡಡ್ ಕಲ್ತೊಂದು ಇತ್ತಿನ ಪೊರ್ತುಡು ವಿಮಾನವೊಂಜಿ ಪೊತ್ತಿನೆರ್ದಾವರ , ಪೊಂಜೊವು ಪೈಲೆಟ್ ಸೇರ್ದ್ ಟ್ರೈನಿ ಪೈಲೆಟ್ ತೀರ್ ಪೋಯಿನ ಘಟನೆ ವರದಿ ಆತುಂಡು .\\nಕಲ್ತೊಂದು ಇತ್ತಿನ ಪೊರ್ತುಡು ವಿಮಾನ ಬೆನ್ನಿದ ಕಂಡೊಗು ಹಾಕಿನೆರ್ದಾವರ ಕರೆಂಟ್ ದ ಕಂಬೊಗು ಡಿಕ್ಕಿ ಆಕ್ ದ್ ತಿರ್ತ್ ಬೂದುಂಡು . ಆ ಪೊರ್ತುಡು ವಿಮಾನಗ್ ತೂ ಪತ್ತಿನೆರ್ದಾವರ ರಡ್ಡ್ ಜನ ತೀರ್ ಪೋಯೆರ್ . ಕಂಡೊಡು ಬೇಲೆ ಮಲ್ತೊಂದು ಇತ್ತಿನಕುಲು ಘಟನೆದ ಬಗ್ಗೆ ಮಾಹಿತಿ ಕೊರ್ತೆರ್.\\n\\nPilot and trainee pilot loose life in a mishap.\\nHyderabad: At Nalgonda in Telengana a pilot and a trainee pilot taking flying lessons lost life in a mishap when the plane caught fire after flying low and hitting an electric pole.Persons working in fields nearby gave details of the incident.\\n\\n\\n']"
            ]
          },
          "metadata": {},
          "execution_count": 58
        }
      ]
    },
    {
      "cell_type": "code",
      "source": [
        "import csv"
      ],
      "metadata": {
        "id": "xJjNOtdKBGAC"
      },
      "execution_count": 62,
      "outputs": []
    },
    {
      "cell_type": "code",
      "source": [
        "# Writing the list to a CSV file\n",
        "with open('output.csv', 'w', newline='', encoding='utf-8') as csvfile:\n",
        "    csv_writer = csv.writer(csvfile)\n",
        "    csv_writer.writerow(['Summary'])  # Writing header\n",
        "    csv_writer.writerows([[item] for item in summary_list])  # Writing each item in a separate row"
      ],
      "metadata": {
        "id": "m4Zvw6N0AC8V"
      },
      "execution_count": 61,
      "outputs": []
    },
    {
      "cell_type": "code",
      "source": [
        "import pandas as pd\n",
        "df=pd.read_csv(\"/content/output.csv\")\n",
        "df.head()"
      ],
      "metadata": {
        "colab": {
          "base_uri": "https://localhost:8080/",
          "height": 938
        },
        "id": "80CE1mT_BKRQ",
        "outputId": "e05a5e5c-4943-4f53-c16a-3e886088a06a"
      },
      "execution_count": 67,
      "outputs": [
        {
          "output_type": "execute_result",
          "data": {
            "text/plain": [
              "                                             Summary\n",
              "0  ರಿಷಬ್ ಶೆಟ್ಟಿ ನಿರ್ದೇಶನ ಬೊಕ್ಕ ನಟನೆ ಮಲ್ತಿನ ಕಾಂತಾರ...\n",
              "1  ದೇಶ ಪರ್ಯಟನೆಗ್ ಪಿದಾಡಿಯೆರ್ ಕುಡ್ಲದ ಜವಣ್ಯೆರ್ : ” N...\n",
              "2  ಕೇರಳ ರಾಜ್ಯದ ಜೋಕ್ಲೆಗ್ ಕುಡೊಂಜಿ ವೈರಸ್ ಸೋಂಕುಪೋಡ್ಯು...\n",
              "3  ಪ್ಲಾಸ್ಟಿಕ್ ಸರ್ಜರಿ ಪನ್ಪಿನ ಪುದರ್ ನಂಕ್ ಮಾತಾ ತೆರಿನ...\n",
              "4  ಹೈದರಾಬಾದ್‌: ‘ಭಾರತೀಯ ಸೇನೆಯ ಯೋಧೇರೆರ್ದ್ ಹೈದರಾಬಾದ್..."
            ],
            "text/html": [
              "\n",
              "  <div id=\"df-b71200bb-b0c4-42f2-9af1-c4fc82f02b47\" class=\"colab-df-container\">\n",
              "    <div>\n",
              "<style scoped>\n",
              "    .dataframe tbody tr th:only-of-type {\n",
              "        vertical-align: middle;\n",
              "    }\n",
              "\n",
              "    .dataframe tbody tr th {\n",
              "        vertical-align: top;\n",
              "    }\n",
              "\n",
              "    .dataframe thead th {\n",
              "        text-align: right;\n",
              "    }\n",
              "</style>\n",
              "<table border=\"1\" class=\"dataframe\">\n",
              "  <thead>\n",
              "    <tr style=\"text-align: right;\">\n",
              "      <th></th>\n",
              "      <th>Summary</th>\n",
              "    </tr>\n",
              "  </thead>\n",
              "  <tbody>\n",
              "    <tr>\n",
              "      <th>0</th>\n",
              "      <td>ರಿಷಬ್ ಶೆಟ್ಟಿ ನಿರ್ದೇಶನ ಬೊಕ್ಕ ನಟನೆ ಮಲ್ತಿನ ಕಾಂತಾರ...</td>\n",
              "    </tr>\n",
              "    <tr>\n",
              "      <th>1</th>\n",
              "      <td>ದೇಶ ಪರ್ಯಟನೆಗ್ ಪಿದಾಡಿಯೆರ್ ಕುಡ್ಲದ ಜವಣ್ಯೆರ್ : ” N...</td>\n",
              "    </tr>\n",
              "    <tr>\n",
              "      <th>2</th>\n",
              "      <td>ಕೇರಳ ರಾಜ್ಯದ ಜೋಕ್ಲೆಗ್ ಕುಡೊಂಜಿ ವೈರಸ್ ಸೋಂಕುಪೋಡ್ಯು...</td>\n",
              "    </tr>\n",
              "    <tr>\n",
              "      <th>3</th>\n",
              "      <td>ಪ್ಲಾಸ್ಟಿಕ್ ಸರ್ಜರಿ ಪನ್ಪಿನ ಪುದರ್ ನಂಕ್ ಮಾತಾ ತೆರಿನ...</td>\n",
              "    </tr>\n",
              "    <tr>\n",
              "      <th>4</th>\n",
              "      <td>ಹೈದರಾಬಾದ್‌: ‘ಭಾರತೀಯ ಸೇನೆಯ ಯೋಧೇರೆರ್ದ್ ಹೈದರಾಬಾದ್...</td>\n",
              "    </tr>\n",
              "  </tbody>\n",
              "</table>\n",
              "</div>\n",
              "    <div class=\"colab-df-buttons\">\n",
              "\n",
              "  <div class=\"colab-df-container\">\n",
              "    <button class=\"colab-df-convert\" onclick=\"convertToInteractive('df-b71200bb-b0c4-42f2-9af1-c4fc82f02b47')\"\n",
              "            title=\"Convert this dataframe to an interactive table.\"\n",
              "            style=\"display:none;\">\n",
              "\n",
              "  <svg xmlns=\"http://www.w3.org/2000/svg\" height=\"24px\" viewBox=\"0 -960 960 960\">\n",
              "    <path d=\"M120-120v-720h720v720H120Zm60-500h600v-160H180v160Zm220 220h160v-160H400v160Zm0 220h160v-160H400v160ZM180-400h160v-160H180v160Zm440 0h160v-160H620v160ZM180-180h160v-160H180v160Zm440 0h160v-160H620v160Z\"/>\n",
              "  </svg>\n",
              "    </button>\n",
              "\n",
              "  <style>\n",
              "    .colab-df-container {\n",
              "      display:flex;\n",
              "      gap: 12px;\n",
              "    }\n",
              "\n",
              "    .colab-df-convert {\n",
              "      background-color: #E8F0FE;\n",
              "      border: none;\n",
              "      border-radius: 50%;\n",
              "      cursor: pointer;\n",
              "      display: none;\n",
              "      fill: #1967D2;\n",
              "      height: 32px;\n",
              "      padding: 0 0 0 0;\n",
              "      width: 32px;\n",
              "    }\n",
              "\n",
              "    .colab-df-convert:hover {\n",
              "      background-color: #E2EBFA;\n",
              "      box-shadow: 0px 1px 2px rgba(60, 64, 67, 0.3), 0px 1px 3px 1px rgba(60, 64, 67, 0.15);\n",
              "      fill: #174EA6;\n",
              "    }\n",
              "\n",
              "    .colab-df-buttons div {\n",
              "      margin-bottom: 4px;\n",
              "    }\n",
              "\n",
              "    [theme=dark] .colab-df-convert {\n",
              "      background-color: #3B4455;\n",
              "      fill: #D2E3FC;\n",
              "    }\n",
              "\n",
              "    [theme=dark] .colab-df-convert:hover {\n",
              "      background-color: #434B5C;\n",
              "      box-shadow: 0px 1px 3px 1px rgba(0, 0, 0, 0.15);\n",
              "      filter: drop-shadow(0px 1px 2px rgba(0, 0, 0, 0.3));\n",
              "      fill: #FFFFFF;\n",
              "    }\n",
              "  </style>\n",
              "\n",
              "    <script>\n",
              "      const buttonEl =\n",
              "        document.querySelector('#df-b71200bb-b0c4-42f2-9af1-c4fc82f02b47 button.colab-df-convert');\n",
              "      buttonEl.style.display =\n",
              "        google.colab.kernel.accessAllowed ? 'block' : 'none';\n",
              "\n",
              "      async function convertToInteractive(key) {\n",
              "        const element = document.querySelector('#df-b71200bb-b0c4-42f2-9af1-c4fc82f02b47');\n",
              "        const dataTable =\n",
              "          await google.colab.kernel.invokeFunction('convertToInteractive',\n",
              "                                                    [key], {});\n",
              "        if (!dataTable) return;\n",
              "\n",
              "        const docLinkHtml = 'Like what you see? Visit the ' +\n",
              "          '<a target=\"_blank\" href=https://colab.research.google.com/notebooks/data_table.ipynb>data table notebook</a>'\n",
              "          + ' to learn more about interactive tables.';\n",
              "        element.innerHTML = '';\n",
              "        dataTable['output_type'] = 'display_data';\n",
              "        await google.colab.output.renderOutput(dataTable, element);\n",
              "        const docLink = document.createElement('div');\n",
              "        docLink.innerHTML = docLinkHtml;\n",
              "        element.appendChild(docLink);\n",
              "      }\n",
              "    </script>\n",
              "  </div>\n",
              "\n",
              "\n",
              "<div id=\"df-12c803db-47e4-40a0-8127-df35df838902\">\n",
              "  <button class=\"colab-df-quickchart\" onclick=\"quickchart('df-12c803db-47e4-40a0-8127-df35df838902')\"\n",
              "            title=\"Suggest charts\"\n",
              "            style=\"display:none;\">\n",
              "\n",
              "<svg xmlns=\"http://www.w3.org/2000/svg\" height=\"24px\"viewBox=\"0 0 24 24\"\n",
              "     width=\"24px\">\n",
              "    <g>\n",
              "        <path d=\"M19 3H5c-1.1 0-2 .9-2 2v14c0 1.1.9 2 2 2h14c1.1 0 2-.9 2-2V5c0-1.1-.9-2-2-2zM9 17H7v-7h2v7zm4 0h-2V7h2v10zm4 0h-2v-4h2v4z\"/>\n",
              "    </g>\n",
              "</svg>\n",
              "  </button>\n",
              "\n",
              "<style>\n",
              "  .colab-df-quickchart {\n",
              "      --bg-color: #E8F0FE;\n",
              "      --fill-color: #1967D2;\n",
              "      --hover-bg-color: #E2EBFA;\n",
              "      --hover-fill-color: #174EA6;\n",
              "      --disabled-fill-color: #AAA;\n",
              "      --disabled-bg-color: #DDD;\n",
              "  }\n",
              "\n",
              "  [theme=dark] .colab-df-quickchart {\n",
              "      --bg-color: #3B4455;\n",
              "      --fill-color: #D2E3FC;\n",
              "      --hover-bg-color: #434B5C;\n",
              "      --hover-fill-color: #FFFFFF;\n",
              "      --disabled-bg-color: #3B4455;\n",
              "      --disabled-fill-color: #666;\n",
              "  }\n",
              "\n",
              "  .colab-df-quickchart {\n",
              "    background-color: var(--bg-color);\n",
              "    border: none;\n",
              "    border-radius: 50%;\n",
              "    cursor: pointer;\n",
              "    display: none;\n",
              "    fill: var(--fill-color);\n",
              "    height: 32px;\n",
              "    padding: 0;\n",
              "    width: 32px;\n",
              "  }\n",
              "\n",
              "  .colab-df-quickchart:hover {\n",
              "    background-color: var(--hover-bg-color);\n",
              "    box-shadow: 0 1px 2px rgba(60, 64, 67, 0.3), 0 1px 3px 1px rgba(60, 64, 67, 0.15);\n",
              "    fill: var(--button-hover-fill-color);\n",
              "  }\n",
              "\n",
              "  .colab-df-quickchart-complete:disabled,\n",
              "  .colab-df-quickchart-complete:disabled:hover {\n",
              "    background-color: var(--disabled-bg-color);\n",
              "    fill: var(--disabled-fill-color);\n",
              "    box-shadow: none;\n",
              "  }\n",
              "\n",
              "  .colab-df-spinner {\n",
              "    border: 2px solid var(--fill-color);\n",
              "    border-color: transparent;\n",
              "    border-bottom-color: var(--fill-color);\n",
              "    animation:\n",
              "      spin 1s steps(1) infinite;\n",
              "  }\n",
              "\n",
              "  @keyframes spin {\n",
              "    0% {\n",
              "      border-color: transparent;\n",
              "      border-bottom-color: var(--fill-color);\n",
              "      border-left-color: var(--fill-color);\n",
              "    }\n",
              "    20% {\n",
              "      border-color: transparent;\n",
              "      border-left-color: var(--fill-color);\n",
              "      border-top-color: var(--fill-color);\n",
              "    }\n",
              "    30% {\n",
              "      border-color: transparent;\n",
              "      border-left-color: var(--fill-color);\n",
              "      border-top-color: var(--fill-color);\n",
              "      border-right-color: var(--fill-color);\n",
              "    }\n",
              "    40% {\n",
              "      border-color: transparent;\n",
              "      border-right-color: var(--fill-color);\n",
              "      border-top-color: var(--fill-color);\n",
              "    }\n",
              "    60% {\n",
              "      border-color: transparent;\n",
              "      border-right-color: var(--fill-color);\n",
              "    }\n",
              "    80% {\n",
              "      border-color: transparent;\n",
              "      border-right-color: var(--fill-color);\n",
              "      border-bottom-color: var(--fill-color);\n",
              "    }\n",
              "    90% {\n",
              "      border-color: transparent;\n",
              "      border-bottom-color: var(--fill-color);\n",
              "    }\n",
              "  }\n",
              "</style>\n",
              "\n",
              "  <script>\n",
              "    async function quickchart(key) {\n",
              "      const quickchartButtonEl =\n",
              "        document.querySelector('#' + key + ' button');\n",
              "      quickchartButtonEl.disabled = true;  // To prevent multiple clicks.\n",
              "      quickchartButtonEl.classList.add('colab-df-spinner');\n",
              "      try {\n",
              "        const charts = await google.colab.kernel.invokeFunction(\n",
              "            'suggestCharts', [key], {});\n",
              "      } catch (error) {\n",
              "        console.error('Error during call to suggestCharts:', error);\n",
              "      }\n",
              "      quickchartButtonEl.classList.remove('colab-df-spinner');\n",
              "      quickchartButtonEl.classList.add('colab-df-quickchart-complete');\n",
              "    }\n",
              "    (() => {\n",
              "      let quickchartButtonEl =\n",
              "        document.querySelector('#df-12c803db-47e4-40a0-8127-df35df838902 button');\n",
              "      quickchartButtonEl.style.display =\n",
              "        google.colab.kernel.accessAllowed ? 'block' : 'none';\n",
              "    })();\n",
              "  </script>\n",
              "</div>\n",
              "\n",
              "    </div>\n",
              "  </div>\n"
            ]
          },
          "metadata": {},
          "execution_count": 67
        }
      ]
    },
    {
      "cell_type": "code",
      "source": [
        "# url2=\"https://www.timesofkudla.com/ARDC.in/2024/Month/01/52903/No.1TuluNews\""
      ],
      "metadata": {
        "id": "2mr1Ixkqqucd"
      },
      "execution_count": 34,
      "outputs": []
    },
    {
      "cell_type": "code",
      "source": [
        "# user_agent = UserAgent()\n",
        "# headers = {'User-Agent': user_agent.random}\n",
        "# response = requests.get(url2, headers=headers)"
      ],
      "metadata": {
        "id": "wP2tEZqytPMc"
      },
      "execution_count": 35,
      "outputs": []
    },
    {
      "cell_type": "code",
      "source": [
        "# response_content = response.content\n",
        "# soup1 = BeautifulSoup(response_content, 'html.parser')"
      ],
      "metadata": {
        "id": "6pbwhzoctXKa"
      },
      "execution_count": 36,
      "outputs": []
    },
    {
      "cell_type": "code",
      "source": [
        "# div_contents=soup1.find('div',class_=\"single-post-wrap entry-content\")"
      ],
      "metadata": {
        "id": "6UwN6gkPte6V"
      },
      "execution_count": 37,
      "outputs": []
    },
    {
      "cell_type": "code",
      "source": [
        "# # Extract text within <p> tags excluding images\n",
        "# text_without_images = \"\"\n",
        "# for p_tag in div_contents.find_all('p'):\n",
        "#     # Check if the <p> tag contains an image\n",
        "#     if not p_tag.find('img'):\n",
        "#         text_without_images += p_tag.get_text(strip=True) + \"\\n\"\n",
        "\n",
        "# # Print the result\n",
        "# print(text_without_images)"
      ],
      "metadata": {
        "id": "7eF9GbCLuhUZ"
      },
      "execution_count": 65,
      "outputs": []
    }
  ]
}